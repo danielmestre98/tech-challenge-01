{
 "cells": [
  {
   "cell_type": "markdown",
   "id": "6c8b8428",
   "metadata": {},
   "source": [
    "# Tech Challenge - Desenvolvimento de um modelo de Machine Learning para prever custos médicos"
   ]
  },
  {
   "cell_type": "markdown",
   "id": "f66fd209",
   "metadata": {},
   "source": [
    "Para iniciar o tech challenge eu escolhi uma base no kaggle chamada \"Medical Cost Personal Datasets\"."
   ]
  },
  {
   "cell_type": "markdown",
   "id": "d93e03bb",
   "metadata": {},
   "source": [
    "Importação das bibliotecas necessárias"
   ]
  },
  {
   "cell_type": "code",
   "execution_count": 2,
   "id": "2f808a8c",
   "metadata": {},
   "outputs": [],
   "source": [
    "from sklearn.model_selection import train_test_split, GridSearchCV\n",
    "from sklearn.ensemble import RandomForestRegressor\n",
    "from sklearn.metrics import mean_squared_error, r2_score, mean_absolute_error\n",
    "from sklearn.linear_model import LinearRegression\n",
    "from sklearn.preprocessing import OneHotEncoder\n",
    "from sklearn.compose import ColumnTransformer\n",
    "from sklearn.pipeline import Pipeline\n",
    "from sklearn.model_selection import cross_val_score\n",
    "import plotly.express as px\n",
    "import pandas as pd\n",
    "import matplotlib.pyplot as plt\n",
    "import seaborn as sns\n",
    "\n",
    "from xgboost import XGBRegressor\n",
    "\n",
    "import numpy as np\n",
    "\n",
    "%matplotlib inline"
   ]
  },
  {
   "cell_type": "markdown",
   "id": "8282adf1",
   "metadata": {},
   "source": [
    "Carregar a base de dados e analisar as primeiras linhas para entender o conteúdo"
   ]
  },
  {
   "cell_type": "code",
   "execution_count": 5,
   "id": "f0ee61e0",
   "metadata": {},
   "outputs": [
    {
     "data": {
      "text/html": [
       "<div>\n",
       "<style scoped>\n",
       "    .dataframe tbody tr th:only-of-type {\n",
       "        vertical-align: middle;\n",
       "    }\n",
       "\n",
       "    .dataframe tbody tr th {\n",
       "        vertical-align: top;\n",
       "    }\n",
       "\n",
       "    .dataframe thead th {\n",
       "        text-align: right;\n",
       "    }\n",
       "</style>\n",
       "<table border=\"1\" class=\"dataframe\">\n",
       "  <thead>\n",
       "    <tr style=\"text-align: right;\">\n",
       "      <th></th>\n",
       "      <th>age</th>\n",
       "      <th>sex</th>\n",
       "      <th>bmi</th>\n",
       "      <th>children</th>\n",
       "      <th>smoker</th>\n",
       "      <th>region</th>\n",
       "      <th>charges</th>\n",
       "    </tr>\n",
       "  </thead>\n",
       "  <tbody>\n",
       "    <tr>\n",
       "      <th>0</th>\n",
       "      <td>19</td>\n",
       "      <td>female</td>\n",
       "      <td>27.900</td>\n",
       "      <td>0</td>\n",
       "      <td>yes</td>\n",
       "      <td>southwest</td>\n",
       "      <td>16884.92400</td>\n",
       "    </tr>\n",
       "    <tr>\n",
       "      <th>1</th>\n",
       "      <td>18</td>\n",
       "      <td>male</td>\n",
       "      <td>33.770</td>\n",
       "      <td>1</td>\n",
       "      <td>no</td>\n",
       "      <td>southeast</td>\n",
       "      <td>1725.55230</td>\n",
       "    </tr>\n",
       "    <tr>\n",
       "      <th>2</th>\n",
       "      <td>28</td>\n",
       "      <td>male</td>\n",
       "      <td>33.000</td>\n",
       "      <td>3</td>\n",
       "      <td>no</td>\n",
       "      <td>southeast</td>\n",
       "      <td>4449.46200</td>\n",
       "    </tr>\n",
       "    <tr>\n",
       "      <th>3</th>\n",
       "      <td>33</td>\n",
       "      <td>male</td>\n",
       "      <td>22.705</td>\n",
       "      <td>0</td>\n",
       "      <td>no</td>\n",
       "      <td>northwest</td>\n",
       "      <td>21984.47061</td>\n",
       "    </tr>\n",
       "    <tr>\n",
       "      <th>4</th>\n",
       "      <td>32</td>\n",
       "      <td>male</td>\n",
       "      <td>28.880</td>\n",
       "      <td>0</td>\n",
       "      <td>no</td>\n",
       "      <td>northwest</td>\n",
       "      <td>3866.85520</td>\n",
       "    </tr>\n",
       "  </tbody>\n",
       "</table>\n",
       "</div>"
      ],
      "text/plain": [
       "   age     sex     bmi  children smoker     region      charges\n",
       "0   19  female  27.900         0    yes  southwest  16884.92400\n",
       "1   18    male  33.770         1     no  southeast   1725.55230\n",
       "2   28    male  33.000         3     no  southeast   4449.46200\n",
       "3   33    male  22.705         0     no  northwest  21984.47061\n",
       "4   32    male  28.880         0     no  northwest   3866.85520"
      ]
     },
     "execution_count": 5,
     "metadata": {},
     "output_type": "execute_result"
    }
   ],
   "source": [
    "dados = pd.read_csv('./data/insurance.csv')\n",
    "\n",
    "dados.head()"
   ]
  },
  {
   "cell_type": "markdown",
   "id": "a583af3e",
   "metadata": {},
   "source": [
    " Verificar os tipos de dados e valores ausentes"
   ]
  },
  {
   "cell_type": "code",
   "execution_count": 9,
   "id": "f477de44",
   "metadata": {},
   "outputs": [
    {
     "name": "stdout",
     "output_type": "stream",
     "text": [
      "<class 'pandas.core.frame.DataFrame'>\n",
      "RangeIndex: 1338 entries, 0 to 1337\n",
      "Data columns (total 7 columns):\n",
      " #   Column    Non-Null Count  Dtype  \n",
      "---  ------    --------------  -----  \n",
      " 0   age       1338 non-null   int64  \n",
      " 1   sex       1338 non-null   object \n",
      " 2   bmi       1338 non-null   float64\n",
      " 3   children  1338 non-null   int64  \n",
      " 4   smoker    1338 non-null   object \n",
      " 5   region    1338 non-null   object \n",
      " 6   charges   1338 non-null   float64\n",
      "dtypes: float64(2), int64(2), object(3)\n",
      "memory usage: 73.3+ KB\n"
     ]
    }
   ],
   "source": [
    "dados.info()"
   ]
  },
  {
   "cell_type": "code",
   "execution_count": 12,
   "id": "ee58ce77",
   "metadata": {},
   "outputs": [
    {
     "data": {
      "text/plain": [
       "(1338, 7)"
      ]
     },
     "execution_count": 12,
     "metadata": {},
     "output_type": "execute_result"
    }
   ],
   "source": [
    "dados.shape"
   ]
  },
  {
   "cell_type": "markdown",
   "id": "0d1a4605",
   "metadata": {},
   "source": [
    "Verificar a distribuição dos dados numéricos"
   ]
  },
  {
   "cell_type": "code",
   "execution_count": null,
   "id": "a6f6fa3a",
   "metadata": {},
   "outputs": [
    {
     "data": {
      "text/html": [
       "<div>\n",
       "<style scoped>\n",
       "    .dataframe tbody tr th:only-of-type {\n",
       "        vertical-align: middle;\n",
       "    }\n",
       "\n",
       "    .dataframe tbody tr th {\n",
       "        vertical-align: top;\n",
       "    }\n",
       "\n",
       "    .dataframe thead th {\n",
       "        text-align: right;\n",
       "    }\n",
       "</style>\n",
       "<table border=\"1\" class=\"dataframe\">\n",
       "  <thead>\n",
       "    <tr style=\"text-align: right;\">\n",
       "      <th></th>\n",
       "      <th>age</th>\n",
       "      <th>bmi</th>\n",
       "      <th>children</th>\n",
       "      <th>charges</th>\n",
       "    </tr>\n",
       "  </thead>\n",
       "  <tbody>\n",
       "    <tr>\n",
       "      <th>count</th>\n",
       "      <td>1338.000000</td>\n",
       "      <td>1338.000000</td>\n",
       "      <td>1338.000000</td>\n",
       "      <td>1338.000000</td>\n",
       "    </tr>\n",
       "    <tr>\n",
       "      <th>mean</th>\n",
       "      <td>39.207025</td>\n",
       "      <td>30.663397</td>\n",
       "      <td>1.094918</td>\n",
       "      <td>13270.422265</td>\n",
       "    </tr>\n",
       "    <tr>\n",
       "      <th>std</th>\n",
       "      <td>14.049960</td>\n",
       "      <td>6.098187</td>\n",
       "      <td>1.205493</td>\n",
       "      <td>12110.011237</td>\n",
       "    </tr>\n",
       "    <tr>\n",
       "      <th>min</th>\n",
       "      <td>18.000000</td>\n",
       "      <td>15.960000</td>\n",
       "      <td>0.000000</td>\n",
       "      <td>1121.873900</td>\n",
       "    </tr>\n",
       "    <tr>\n",
       "      <th>25%</th>\n",
       "      <td>27.000000</td>\n",
       "      <td>26.296250</td>\n",
       "      <td>0.000000</td>\n",
       "      <td>4740.287150</td>\n",
       "    </tr>\n",
       "    <tr>\n",
       "      <th>50%</th>\n",
       "      <td>39.000000</td>\n",
       "      <td>30.400000</td>\n",
       "      <td>1.000000</td>\n",
       "      <td>9382.033000</td>\n",
       "    </tr>\n",
       "    <tr>\n",
       "      <th>75%</th>\n",
       "      <td>51.000000</td>\n",
       "      <td>34.693750</td>\n",
       "      <td>2.000000</td>\n",
       "      <td>16639.912515</td>\n",
       "    </tr>\n",
       "    <tr>\n",
       "      <th>max</th>\n",
       "      <td>64.000000</td>\n",
       "      <td>53.130000</td>\n",
       "      <td>5.000000</td>\n",
       "      <td>63770.428010</td>\n",
       "    </tr>\n",
       "  </tbody>\n",
       "</table>\n",
       "</div>"
      ],
      "text/plain": [
       "               age          bmi     children       charges\n",
       "count  1338.000000  1338.000000  1338.000000   1338.000000\n",
       "mean     39.207025    30.663397     1.094918  13270.422265\n",
       "std      14.049960     6.098187     1.205493  12110.011237\n",
       "min      18.000000    15.960000     0.000000   1121.873900\n",
       "25%      27.000000    26.296250     0.000000   4740.287150\n",
       "50%      39.000000    30.400000     1.000000   9382.033000\n",
       "75%      51.000000    34.693750     2.000000  16639.912515\n",
       "max      64.000000    53.130000     5.000000  63770.428010"
      ]
     },
     "execution_count": 7,
     "metadata": {},
     "output_type": "execute_result"
    }
   ],
   "source": [
    "dados.describe()"
   ]
  },
  {
   "cell_type": "markdown",
   "id": "6b639dd6",
   "metadata": {},
   "source": [
    "Verificar a distribuição dos dados visualmente para detectar possíveis outliers"
   ]
  },
  {
   "cell_type": "code",
   "execution_count": 13,
   "id": "b207e79c",
   "metadata": {},
   "outputs": [
    {
     "data": {
      "text/plain": [
       "array([[<Axes: title={'center': 'age'}>, <Axes: title={'center': 'bmi'}>],\n",
       "       [<Axes: title={'center': 'children'}>,\n",
       "        <Axes: title={'center': 'charges'}>]], dtype=object)"
      ]
     },
     "execution_count": 13,
     "metadata": {},
     "output_type": "execute_result"
    },
    {
     "data": {
      "image/png": "[encoded data removed]",
      "text/plain": [
       "<Figure size 1000x1000 with 4 Axes>"
      ]
     },
     "metadata": {},
     "output_type": "display_data"
    }
   ],
   "source": [
    "dados.hist(figsize=(10, 10))"
   ]
  },
  {
   "cell_type": "code",
   "execution_count": 26,
   "id": "0725ea2c",
   "metadata": {},
   "outputs": [
    {
     "data": {
      "image/png": "[encoded data removed]",
      "text/plain": [
       "<Figure size 800x500 with 1 Axes>"
      ]
     },
     "metadata": {},
     "output_type": "display_data"
    }
   ],
   "source": [
    "#  Distribuição de Custos médicos\n",
    "plt.figure(figsize=(8, 5))\n",
    "sns.histplot(dados['charges'], bins=30, kde=True)\n",
    "plt.title('Distribuição de custos médicos')\n",
    "plt.xlabel('Custo')\n",
    "plt.ylabel('Frequência')\n",
    "plt.show()"
   ]
  },
  {
   "cell_type": "code",
   "execution_count": 20,
   "id": "29ca9c13",
   "metadata": {},
   "outputs": [
    {
     "data": {
      "application/vnd.plotly.v1+json": {
       "config": {
        "plotlyServerURL": "https://plot.ly"
       },
       "data": [
        {
         "alignmentgroup": "True",
         "hovertemplate": "smoker=yes<br>region=%{x}<br>charges=%{y}<extra></extra>",
         "legendgroup": "yes",
         "marker": {
          "color": "#636efa"
         },
         "name": "yes",
         "notched": false,
         "offsetgroup": "yes",
         "orientation": "v",
         "showlegend": true,
         "type": "box",
         "x": [
          "southwest",
          "southeast",
          "southeast",
          "southwest",
          "northeast",
          "southwest",
          "southwest",
          "southwest",
          "northeast",
          "southwest",
          "southeast",
          "southwest",
          "southeast",
          "northwest",
          "southeast",
          "southeast",
          "northwest",
          "southeast",
          "southeast",
          "southeast",
          "southwest",
          "northwest",
          "northwest",
          "northeast",
          "southwest",
          "northeast",
          "southwest",
          "southeast",
          "northwest",
          "southeast",
          "southeast",
          "northeast",
          "southwest",
          "northwest",
          "southeast",
          "northwest",
          "northwest",
          "northeast",
          "southeast",
          "northeast",
          "southeast",
          "northwest",
          "southeast",
          "southwest",
          "northeast",
          "southeast",
          "northeast",
          "southwest",
          "southeast",
          "southeast",
          "northwest",
          "northeast",
          "northeast",
          "northeast",
          "southwest",
          "southeast",
          "northeast",
          "northwest",
          "northwest",
          "southeast",
          "northeast",
          "northwest",
          "southeast",
          "southeast",
          "southwest",
          "northeast",
          "northeast",
          "northeast",
          "southeast",
          "southwest",
          "southeast",
          "northwest",
          "northeast",
          "southeast",
          "southwest",
          "southwest",
          "northwest",
          "southwest",
          "northeast",
          "northwest",
          "northeast",
          "southwest",
          "southwest",
          "northwest",
          "northeast",
          "southeast",
          "northeast",
          "northeast",
          "northeast",
          "northeast",
          "southwest",
          "northwest",
          "southeast",
          "southeast",
          "northeast",
          "southwest",
          "northwest",
          "southwest",
          "southeast",
          "southwest",
          "northwest",
          "northeast",
          "southeast",
          "southwest",
          "southwest",
          "southeast",
          "southeast",
          "southwest",
          "southeast",
          "southeast",
          "southeast",
          "northwest",
          "southeast",
          "northwest",
          "northwest",
          "northeast",
          "northwest",
          "northeast",
          "northwest",
          "northwest",
          "southwest",
          "southeast",
          "southwest",
          "southeast",
          "southwest",
          "northeast",
          "northwest",
          "northeast",
          "northwest",
          "southeast",
          "southeast",
          "southeast",
          "northwest",
          "northeast",
          "southeast",
          "northwest",
          "southwest",
          "southeast",
          "southeast",
          "southeast",
          "southeast",
          "northeast",
          "southeast",
          "southeast",
          "northeast",
          "southwest",
          "southeast",
          "northeast",
          "southeast",
          "southeast",
          "southeast",
          "southwest",
          "northwest",
          "southwest",
          "southwest",
          "southeast",
          "northwest",
          "northeast",
          "southeast",
          "northeast",
          "northwest",
          "southeast",
          "northeast",
          "northeast",
          "southeast",
          "southeast",
          "southeast",
          "northeast",
          "northeast",
          "northeast",
          "southeast",
          "northwest",
          "southwest",
          "northeast",
          "southeast",
          "northeast",
          "northwest",
          "southeast",
          "northeast",
          "southeast",
          "southwest",
          "northeast",
          "northwest",
          "northeast",
          "northeast",
          "southwest",
          "southeast",
          "southwest",
          "northwest",
          "southeast",
          "northeast",
          "northwest",
          "northeast",
          "southwest",
          "northeast",
          "northwest",
          "northwest",
          "southwest",
          "northwest",
          "southeast",
          "southeast",
          "southeast",
          "northwest",
          "northwest",
          "southeast",
          "northeast",
          "southeast",
          "northwest",
          "northwest",
          "northeast",
          "northwest",
          "southeast",
          "southwest",
          "southwest",
          "southeast",
          "southeast",
          "southeast",
          "southwest",
          "southeast",
          "northwest",
          "northeast",
          "northeast",
          "southeast",
          "southeast",
          "southeast",
          "southeast",
          "southwest",
          "northwest",
          "northeast",
          "northwest",
          "southwest",
          "southeast",
          "southeast",
          "northeast",
          "southwest",
          "northwest",
          "southeast",
          "southeast",
          "northwest",
          "northeast",
          "northwest",
          "southeast",
          "southwest",
          "northeast",
          "southwest",
          "southeast",
          "northwest",
          "southwest",
          "southeast",
          "southeast",
          "northeast",
          "northeast",
          "southwest",
          "southeast",
          "northeast",
          "southeast",
          "northeast",
          "northwest",
          "northeast",
          "southwest",
          "southwest",
          "southwest",
          "southeast",
          "northwest",
          "southwest",
          "northeast",
          "northeast",
          "northwest",
          "southwest",
          "southwest",
          "northwest",
          "northeast",
          "southeast",
          "northwest"
         ],
         "x0": " ",
         "xaxis": "x",
         "y": {
          "bdata": "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",
          "dtype": "f8"
         },
         "y0": " ",
         "yaxis": "y"
        },
        {
         "alignmentgroup": "True",
         "hovertemplate": "smoker=no<br>region=%{x}<br>charges=%{y}<extra></extra>",
         "legendgroup": "no",
         "marker": {
          "color": "#EF553B"
         },
         "name": "no",
         "notched": false,
         "offsetgroup": "no",
         "orientation": "v",
         "showlegend": true,
         "type": "box",
         "x": [
          "southeast",
          "southeast",
          "northwest",
          "northwest",
          "southeast",
          "southeast",
          "northwest",
          "northeast",
          "northwest",
          "northeast",
          "southwest",
          "southeast",
          "southwest",
          "northeast",
          "northeast",
          "southwest",
          "northeast",
          "southwest",
          "southeast",
          "northwest",
          "southeast",
          "northeast",
          "northwest",
          "northwest",
          "northeast",
          "southwest",
          "northwest",
          "northwest",
          "northwest",
          "southwest",
          "northeast",
          "southeast",
          "southeast",
          "southeast",
          "northeast",
          "southwest",
          "northeast",
          "northwest",
          "southeast",
          "northeast",
          "northwest",
          "northwest",
          "northeast",
          "northwest",
          "northeast",
          "southeast",
          "northwest",
          "northwest",
          "southwest",
          "southwest",
          "northwest",
          "southeast",
          "northeast",
          "southwest",
          "southeast",
          "southwest",
          "northwest",
          "southeast",
          "southeast",
          "northeast",
          "northwest",
          "northeast",
          "northeast",
          "northwest",
          "southwest",
          "northwest",
          "northwest",
          "southeast",
          "northwest",
          "northwest",
          "southeast",
          "southwest",
          "southeast",
          "southwest",
          "northeast",
          "northeast",
          "southwest",
          "southwest",
          "northwest",
          "southeast",
          "northwest",
          "southwest",
          "southwest",
          "northwest",
          "northeast",
          "northeast",
          "southeast",
          "southeast",
          "northwest",
          "southwest",
          "northeast",
          "northwest",
          "northwest",
          "northeast",
          "southwest",
          "southwest",
          "northeast",
          "northeast",
          "southwest",
          "northwest",
          "northeast",
          "southeast",
          "southwest",
          "northwest",
          "southeast",
          "southwest",
          "northeast",
          "northeast",
          "northwest",
          "southeast",
          "southeast",
          "northwest",
          "southwest",
          "northwest",
          "southeast",
          "northeast",
          "northeast",
          "northwest",
          "southeast",
          "southwest",
          "southwest",
          "northwest",
          "northeast",
          "southwest",
          "northwest",
          "northwest",
          "northeast",
          "southeast",
          "southwest",
          "northeast",
          "southwest",
          "northwest",
          "northwest",
          "southwest",
          "southwest",
          "northeast",
          "northwest",
          "southeast",
          "northeast",
          "northwest",
          "southeast",
          "southeast",
          "southwest",
          "southwest",
          "northwest",
          "southeast",
          "southwest",
          "southeast",
          "northwest",
          "southeast",
          "northwest",
          "southwest",
          "southeast",
          "northwest",
          "northeast",
          "northwest",
          "southeast",
          "northwest",
          "southwest",
          "northeast",
          "southeast",
          "southwest",
          "northeast",
          "southwest",
          "northwest",
          "northwest",
          "southeast",
          "southwest",
          "southwest",
          "northwest",
          "southeast",
          "southeast",
          "southeast",
          "southwest",
          "northeast",
          "southwest",
          "southeast",
          "southeast",
          "southeast",
          "northeast",
          "northeast",
          "northwest",
          "southeast",
          "southwest",
          "southwest",
          "northwest",
          "southeast",
          "southeast",
          "southeast",
          "northeast",
          "southwest",
          "southwest",
          "northwest",
          "southeast",
          "southeast",
          "southwest",
          "northeast",
          "southwest",
          "northeast",
          "southeast",
          "northwest",
          "southwest",
          "southeast",
          "northeast",
          "southwest",
          "northeast",
          "southeast",
          "northwest",
          "northeast",
          "northwest",
          "northeast",
          "northwest",
          "southwest",
          "southeast",
          "southeast",
          "northeast",
          "northeast",
          "southwest",
          "southeast",
          "northeast",
          "northwest",
          "southeast",
          "southwest",
          "northeast",
          "southeast",
          "southwest",
          "northeast",
          "northwest",
          "northeast",
          "southeast",
          "southeast",
          "southwest",
          "northwest",
          "southwest",
          "southeast",
          "northeast",
          "northwest",
          "southwest",
          "southwest",
          "southeast",
          "northeast",
          "northwest",
          "northeast",
          "northwest",
          "northeast",
          "northwest",
          "northeast",
          "northeast",
          "southwest",
          "northeast",
          "southeast",
          "southwest",
          "northwest",
          "northeast",
          "northeast",
          "southwest",
          "southeast",
          "northwest",
          "southeast",
          "southwest",
          "northwest",
          "northeast",
          "northeast",
          "southeast",
          "southeast",
          "southeast",
          "northeast",
          "southeast",
          "northwest",
          "northwest",
          "southwest",
          "southwest",
          "northeast",
          "southeast",
          "southwest",
          "southeast",
          "northwest",
          "southeast",
          "southeast",
          "northeast",
          "southwest",
          "southwest",
          "southeast",
          "northeast",
          "northeast",
          "northwest",
          "northwest",
          "northeast",
          "northwest",
          "northeast",
          "northeast",
          "southeast",
          "northwest",
          "southeast",
          "southeast",
          "southeast",
          "northeast",
          "southwest",
          "southeast",
          "northwest",
          "northwest",
          "northwest",
          "northeast",
          "northwest",
          "northeast",
          "northeast",
          "northeast",
          "northwest",
          "southwest",
          "southeast",
          "southwest",
          "southeast",
          "southwest",
          "southeast",
          "northwest",
          "northwest",
          "southwest",
          "northeast",
          "southeast",
          "southwest",
          "southeast",
          "southeast",
          "northwest",
          "southwest",
          "northwest",
          "southeast",
          "southeast",
          "southeast",
          "northeast",
          "southwest",
          "southeast",
          "northeast",
          "northeast",
          "northeast",
          "northwest",
          "southwest",
          "northwest",
          "southwest",
          "southwest",
          "northwest",
          "southeast",
          "northeast",
          "southwest",
          "southeast",
          "northeast",
          "northwest",
          "southeast",
          "southeast",
          "southwest",
          "northeast",
          "northwest",
          "southwest",
          "southwest",
          "southwest",
          "northwest",
          "southwest",
          "northwest",
          "southeast",
          "southwest",
          "southeast",
          "northwest",
          "southwest",
          "southeast",
          "southeast",
          "northeast",
          "northeast",
          "northwest",
          "southwest",
          "northwest",
          "northeast",
          "southeast",
          "southeast",
          "northeast",
          "southwest",
          "northeast",
          "northwest",
          "southeast",
          "southeast",
          "northwest",
          "southeast",
          "southeast",
          "southwest",
          "southwest",
          "northeast",
          "northwest",
          "southwest",
          "northwest",
          "southwest",
          "southeast",
          "northeast",
          "southwest",
          "northeast",
          "southwest",
          "southwest",
          "southeast",
          "southwest",
          "northeast",
          "southeast",
          "northwest",
          "northwest",
          "northwest",
          "northeast",
          "southwest",
          "northeast",
          "southeast",
          "northeast",
          "southwest",
          "southwest",
          "southeast",
          "northwest",
          "southwest",
          "northeast",
          "northeast",
          "southeast",
          "northeast",
          "southeast",
          "southeast",
          "northwest",
          "southwest",
          "northeast",
          "northeast",
          "northeast",
          "southeast",
          "southeast",
          "southeast",
          "northeast",
          "southwest",
          "southwest",
          "southeast",
          "southeast",
          "southwest",
          "southeast",
          "southeast",
          "northwest",
          "northeast",
          "southwest",
          "northeast",
          "southwest",
          "southeast",
          "southwest",
          "northwest",
          "northeast",
          "southwest",
          "northeast",
          "southeast",
          "northwest",
          "northwest",
          "northeast",
          "southwest",
          "southeast",
          "southeast",
          "northwest",
          "northwest",
          "northwest",
          "southwest",
          "southwest",
          "southeast",
          "southeast",
          "northeast",
          "northeast",
          "northwest",
          "southeast",
          "southwest",
          "northeast",
          "northeast",
          "northwest",
          "southeast",
          "southeast",
          "southwest",
          "southeast",
          "northeast",
          "northeast",
          "southeast",
          "southwest",
          "northwest",
          "southeast",
          "southeast",
          "northeast",
          "southeast",
          "northeast",
          "southwest",
          "northwest",
          "southeast",
          "northwest",
          "southwest",
          "southeast",
          "southeast",
          "northeast",
          "northeast",
          "southeast",
          "southwest",
          "northeast",
          "northeast",
          "southeast",
          "northeast",
          "southwest",
          "southwest",
          "southwest",
          "northwest",
          "northwest",
          "northeast",
          "southeast",
          "southwest",
          "southwest",
          "southwest",
          "southeast",
          "northeast",
          "southwest",
          "northeast",
          "northwest",
          "northeast",
          "southeast",
          "southwest",
          "northeast",
          "northwest",
          "southeast",
          "northeast",
          "northwest",
          "northeast",
          "northeast",
          "northeast",
          "southeast",
          "southeast",
          "southeast",
          "southeast",
          "southeast",
          "southwest",
          "northwest",
          "northeast",
          "northeast",
          "southeast",
          "southeast",
          "northeast",
          "southeast",
          "southwest",
          "southeast",
          "southeast",
          "northeast",
          "southeast",
          "southeast",
          "northwest",
          "southeast",
          "southwest",
          "northwest",
          "southwest",
          "southwest",
          "northwest",
          "southwest",
          "northeast",
          "northeast",
          "southeast",
          "southwest",
          "northeast",
          "southwest",
          "northwest",
          "northwest",
          "southwest",
          "northwest",
          "northeast",
          "northwest",
          "southeast",
          "southeast",
          "northeast",
          "southeast",
          "northwest",
          "northwest",
          "southwest",
          "northwest",
          "northeast",
          "northeast",
          "southeast",
          "southeast",
          "northwest",
          "northeast",
          "southwest",
          "southwest",
          "northwest",
          "northwest",
          "northwest",
          "northwest",
          "northeast",
          "southwest",
          "southwest",
          "southwest",
          "northeast",
          "northwest",
          "northeast",
          "southeast",
          "southwest",
          "southwest",
          "northeast",
          "southwest",
          "northwest",
          "southwest",
          "northeast",
          "southeast",
          "northwest",
          "northwest",
          "southwest",
          "northwest",
          "southwest",
          "northwest",
          "northwest",
          "northwest",
          "southeast",
          "northeast",
          "northeast",
          "northeast",
          "northeast",
          "northeast",
          "southwest",
          "northeast",
          "northeast",
          "northwest",
          "southwest",
          "southwest",
          "southwest",
          "northwest",
          "southwest",
          "southwest",
          "northeast",
          "northwest",
          "southeast",
          "northwest",
          "northeast",
          "southeast",
          "northwest",
          "southeast",
          "southeast",
          "southeast",
          "southwest",
          "northeast",
          "northwest",
          "northeast",
          "southeast",
          "southeast",
          "southwest",
          "northeast",
          "northwest",
          "southeast",
          "northeast",
          "southwest",
          "southeast",
          "southeast",
          "southwest",
          "southeast",
          "northwest",
          "northwest",
          "northwest",
          "southeast",
          "northeast",
          "southwest",
          "northwest",
          "southeast",
          "northeast",
          "southeast",
          "southeast",
          "northwest",
          "southwest",
          "southwest",
          "northwest",
          "southeast",
          "southeast",
          "northwest",
          "northeast",
          "northwest",
          "southwest",
          "northwest",
          "northwest",
          "northwest",
          "northwest",
          "southeast",
          "southwest",
          "northeast",
          "northeast",
          "northwest",
          "southwest",
          "northeast",
          "northeast",
          "southwest",
          "southeast",
          "southwest",
          "northwest",
          "northwest",
          "northeast",
          "southwest",
          "southeast",
          "southwest",
          "southwest",
          "northwest",
          "northeast",
          "southwest",
          "southwest",
          "southeast",
          "southwest",
          "northeast",
          "southwest",
          "southwest",
          "southeast",
          "southeast",
          "southwest",
          "northeast",
          "northwest",
          "southwest",
          "southeast",
          "southwest",
          "southwest",
          "southwest",
          "northwest",
          "northeast",
          "northwest",
          "northwest",
          "southwest",
          "northwest",
          "southeast",
          "northeast",
          "northeast",
          "southwest",
          "northwest",
          "southeast",
          "northwest",
          "northeast",
          "northeast",
          "southeast",
          "southwest",
          "northeast",
          "northeast",
          "southeast",
          "southwest",
          "northwest",
          "northwest",
          "southwest",
          "northwest",
          "southeast",
          "southwest",
          "southeast",
          "southwest",
          "southwest",
          "southwest",
          "northwest",
          "southwest",
          "northeast",
          "southwest",
          "southwest",
          "southeast",
          "southeast",
          "southeast",
          "southwest",
          "southwest",
          "southwest",
          "southeast",
          "southwest",
          "northeast",
          "northwest",
          "southeast",
          "southeast",
          "southeast",
          "southeast",
          "northeast",
          "northwest",
          "southeast",
          "southwest",
          "southwest",
          "northwest",
          "northeast",
          "northwest",
          "southeast",
          "northwest",
          "northwest",
          "northwest",
          "southwest",
          "southeast",
          "northeast",
          "northwest",
          "southwest",
          "northwest",
          "northeast",
          "southeast",
          "southeast",
          "northeast",
          "northwest",
          "southwest",
          "southeast",
          "southeast",
          "southeast",
          "northeast",
          "southeast",
          "northeast",
          "northeast",
          "northeast",
          "northeast",
          "southwest",
          "northwest",
          "northwest",
          "northeast",
          "southwest",
          "northeast",
          "southwest",
          "southeast",
          "northeast",
          "southwest",
          "southeast",
          "northeast",
          "northwest",
          "southwest",
          "southwest",
          "northeast",
          "northwest",
          "northeast",
          "northeast",
          "northeast",
          "southwest",
          "southeast",
          "northwest",
          "southwest",
          "northwest",
          "northwest",
          "southwest",
          "northwest",
          "northwest",
          "southwest",
          "southeast",
          "southeast",
          "southwest",
          "northwest",
          "southwest",
          "northeast",
          "northeast",
          "northwest",
          "southwest",
          "northeast",
          "northwest",
          "northeast",
          "southwest",
          "northeast",
          "northeast",
          "northwest",
          "northwest",
          "northeast",
          "northeast",
          "northwest",
          "northwest",
          "southwest",
          "southeast",
          "southeast",
          "northwest",
          "southeast",
          "southeast",
          "northwest",
          "southwest",
          "southwest",
          "southeast",
          "northeast",
          "northwest",
          "southeast",
          "northeast",
          "northwest",
          "northeast",
          "northeast",
          "southeast",
          "southwest",
          "northeast",
          "southeast",
          "southeast",
          "northwest",
          "northwest",
          "southwest",
          "northwest",
          "northeast",
          "northwest",
          "southeast",
          "southwest",
          "northeast",
          "southwest",
          "southwest",
          "northeast",
          "southeast",
          "northeast",
          "southeast",
          "southwest",
          "southeast",
          "southeast",
          "southwest",
          "southeast",
          "northwest",
          "northwest",
          "southwest",
          "southeast",
          "northeast",
          "northwest",
          "northeast",
          "southeast",
          "northeast",
          "northwest",
          "southeast",
          "northeast",
          "northwest",
          "southwest",
          "southeast",
          "southwest",
          "southwest",
          "southeast",
          "southwest",
          "northeast",
          "northwest",
          "northwest",
          "northwest",
          "southwest",
          "northwest",
          "southeast",
          "southeast",
          "southwest",
          "southeast",
          "southeast",
          "southwest",
          "northwest",
          "northwest",
          "southwest",
          "southwest",
          "northeast",
          "northwest",
          "northwest",
          "northwest",
          "northeast",
          "northwest",
          "northeast",
          "southwest",
          "northwest",
          "southeast",
          "southeast",
          "northeast",
          "northwest",
          "northeast",
          "southeast",
          "southwest",
          "southwest",
          "northwest",
          "southeast",
          "northwest",
          "northwest",
          "southwest",
          "southwest",
          "northeast",
          "northeast",
          "northwest",
          "southwest",
          "northeast",
          "northeast",
          "northwest",
          "southwest",
          "northwest",
          "northeast",
          "northeast",
          "northwest",
          "northwest",
          "northwest",
          "southeast",
          "northwest",
          "southwest",
          "northwest",
          "northwest",
          "northwest",
          "northeast",
          "northwest",
          "southwest",
          "southwest",
          "northwest",
          "southeast",
          "northeast",
          "southwest",
          "northwest",
          "northeast",
          "southeast",
          "southeast",
          "northwest",
          "northeast",
          "southeast",
          "southeast",
          "northeast",
          "southeast",
          "northeast",
          "southeast",
          "southeast",
          "northeast",
          "northwest",
          "southwest",
          "southeast",
          "northwest",
          "northeast",
          "northwest",
          "northeast",
          "southeast",
          "northwest",
          "southeast",
          "southeast",
          "southwest",
          "southwest",
          "southwest",
          "southeast",
          "southwest",
          "southwest",
          "southeast",
          "southwest",
          "northwest",
          "northwest",
          "northwest",
          "northeast",
          "northeast",
          "southwest",
          "southeast",
          "southwest",
          "northeast",
          "southwest",
          "southwest",
          "southwest",
          "northwest",
          "northwest",
          "southeast",
          "southeast",
          "southwest",
          "northeast",
          "northwest",
          "northwest",
          "southeast",
          "southeast",
          "northeast",
          "northeast",
          "southwest",
          "southeast",
          "northeast",
          "southeast",
          "northwest",
          "northeast",
          "southwest",
          "northeast",
          "southeast",
          "northwest",
          "northwest",
          "southwest",
          "southeast",
          "southwest",
          "northwest",
          "northwest",
          "southwest",
          "northeast",
          "southwest",
          "southeast",
          "northeast",
          "northwest",
          "northwest",
          "southeast",
          "northwest",
          "northeast",
          "northeast",
          "southeast",
          "northeast",
          "southwest",
          "southeast",
          "southwest",
          "southwest",
          "northwest",
          "northeast",
          "southeast",
          "southwest"
         ],
         "x0": " ",
         "xaxis": "x",
         "y": {
          "bdata": "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",
          "dtype": "f8"
         },
         "y0": " ",
         "yaxis": "y"
        }
       ],
       "layout": {
        "boxmode": "group",
        "legend": {
         "title": {
          "text": "smoker"
         },
         "tracegroupgap": 0
        },
        "template": {
         "data": {
          "bar": [
           {
            "error_x": {
             "color": "#2a3f5f"
            },
            "error_y": {
             "color": "#2a3f5f"
            },
            "marker": {
             "line": {
              "color": "#E5ECF6",
              "width": 0.5
             },
             "pattern": {
              "fillmode": "overlay",
              "size": 10,
              "solidity": 0.2
             }
            },
            "type": "bar"
           }
          ],
          "barpolar": [
           {
            "marker": {
             "line": {
              "color": "#E5ECF6",
              "width": 0.5
             },
             "pattern": {
              "fillmode": "overlay",
              "size": 10,
              "solidity": 0.2
             }
            },
            "type": "barpolar"
           }
          ],
          "carpet": [
           {
            "aaxis": {
             "endlinecolor": "#2a3f5f",
             "gridcolor": "white",
             "linecolor": "white",
             "minorgridcolor": "white",
             "startlinecolor": "#2a3f5f"
            },
            "baxis": {
             "endlinecolor": "#2a3f5f",
             "gridcolor": "white",
             "linecolor": "white",
             "minorgridcolor": "white",
             "startlinecolor": "#2a3f5f"
            },
            "type": "carpet"
           }
          ],
          "choropleth": [
           {
            "colorbar": {
             "outlinewidth": 0,
             "ticks": ""
            },
            "type": "choropleth"
           }
          ],
          "contour": [
           {
            "colorbar": {
             "outlinewidth": 0,
             "ticks": ""
            },
            "colorscale": [
             [
              0,
              "#0d0887"
             ],
             [
              0.1111111111111111,
              "#46039f"
             ],
             [
              0.2222222222222222,
              "#7201a8"
             ],
             [
              0.3333333333333333,
              "#9c179e"
             ],
             [
              0.4444444444444444,
              "#bd3786"
             ],
             [
              0.5555555555555556,
              "#d8576b"
             ],
             [
              0.6666666666666666,
              "#ed7953"
             ],
             [
              0.7777777777777778,
              "#fb9f3a"
             ],
             [
              0.8888888888888888,
              "#fdca26"
             ],
             [
              1,
              "#f0f921"
             ]
            ],
            "type": "contour"
           }
          ],
          "contourcarpet": [
           {
            "colorbar": {
             "outlinewidth": 0,
             "ticks": ""
            },
            "type": "contourcarpet"
           }
          ],
          "heatmap": [
           {
            "colorbar": {
             "outlinewidth": 0,
             "ticks": ""
            },
            "colorscale": [
             [
              0,
              "#0d0887"
             ],
             [
              0.1111111111111111,
              "#46039f"
             ],
             [
              0.2222222222222222,
              "#7201a8"
             ],
             [
              0.3333333333333333,
              "#9c179e"
             ],
             [
              0.4444444444444444,
              "#bd3786"
             ],
             [
              0.5555555555555556,
              "#d8576b"
             ],
             [
              0.6666666666666666,
              "#ed7953"
             ],
             [
              0.7777777777777778,
              "#fb9f3a"
             ],
             [
              0.8888888888888888,
              "#fdca26"
             ],
             [
              1,
              "#f0f921"
             ]
            ],
            "type": "heatmap"
           }
          ],
          "histogram": [
           {
            "marker": {
             "pattern": {
              "fillmode": "overlay",
              "size": 10,
              "solidity": 0.2
             }
            },
            "type": "histogram"
           }
          ],
          "histogram2d": [
           {
            "colorbar": {
             "outlinewidth": 0,
             "ticks": ""
            },
            "colorscale": [
             [
              0,
              "#0d0887"
             ],
             [
              0.1111111111111111,
              "#46039f"
             ],
             [
              0.2222222222222222,
              "#7201a8"
             ],
             [
              0.3333333333333333,
              "#9c179e"
             ],
             [
              0.4444444444444444,
              "#bd3786"
             ],
             [
              0.5555555555555556,
              "#d8576b"
             ],
             [
              0.6666666666666666,
              "#ed7953"
             ],
             [
              0.7777777777777778,
              "#fb9f3a"
             ],
             [
              0.8888888888888888,
              "#fdca26"
             ],
             [
              1,
              "#f0f921"
             ]
            ],
            "type": "histogram2d"
           }
          ],
          "histogram2dcontour": [
           {
            "colorbar": {
             "outlinewidth": 0,
             "ticks": ""
            },
            "colorscale": [
             [
              0,
              "#0d0887"
             ],
             [
              0.1111111111111111,
              "#46039f"
             ],
             [
              0.2222222222222222,
              "#7201a8"
             ],
             [
              0.3333333333333333,
              "#9c179e"
             ],
             [
              0.4444444444444444,
              "#bd3786"
             ],
             [
              0.5555555555555556,
              "#d8576b"
             ],
             [
              0.6666666666666666,
              "#ed7953"
             ],
             [
              0.7777777777777778,
              "#fb9f3a"
             ],
             [
              0.8888888888888888,
              "#fdca26"
             ],
             [
              1,
              "#f0f921"
             ]
            ],
            "type": "histogram2dcontour"
           }
          ],
          "mesh3d": [
           {
            "colorbar": {
             "outlinewidth": 0,
             "ticks": ""
            },
            "type": "mesh3d"
           }
          ],
          "parcoords": [
           {
            "line": {
             "colorbar": {
              "outlinewidth": 0,
              "ticks": ""
             }
            },
            "type": "parcoords"
           }
          ],
          "pie": [
           {
            "automargin": true,
            "type": "pie"
           }
          ],
          "scatter": [
           {
            "fillpattern": {
             "fillmode": "overlay",
             "size": 10,
             "solidity": 0.2
            },
            "type": "scatter"
           }
          ],
          "scatter3d": [
           {
            "line": {
             "colorbar": {
              "outlinewidth": 0,
              "ticks": ""
             }
            },
            "marker": {
             "colorbar": {
              "outlinewidth": 0,
              "ticks": ""
             }
            },
            "type": "scatter3d"
           }
          ],
          "scattercarpet": [
           {
            "marker": {
             "colorbar": {
              "outlinewidth": 0,
              "ticks": ""
             }
            },
            "type": "scattercarpet"
           }
          ],
          "scattergeo": [
           {
            "marker": {
             "colorbar": {
              "outlinewidth": 0,
              "ticks": ""
             }
            },
            "type": "scattergeo"
           }
          ],
          "scattergl": [
           {
            "marker": {
             "colorbar": {
              "outlinewidth": 0,
              "ticks": ""
             }
            },
            "type": "scattergl"
           }
          ],
          "scattermap": [
           {
            "marker": {
             "colorbar": {
              "outlinewidth": 0,
              "ticks": ""
             }
            },
            "type": "scattermap"
           }
          ],
          "scattermapbox": [
           {
            "marker": {
             "colorbar": {
              "outlinewidth": 0,
              "ticks": ""
             }
            },
            "type": "scattermapbox"
           }
          ],
          "scatterpolar": [
           {
            "marker": {
             "colorbar": {
              "outlinewidth": 0,
              "ticks": ""
             }
            },
            "type": "scatterpolar"
           }
          ],
          "scatterpolargl": [
           {
            "marker": {
             "colorbar": {
              "outlinewidth": 0,
              "ticks": ""
             }
            },
            "type": "scatterpolargl"
           }
          ],
          "scatterternary": [
           {
            "marker": {
             "colorbar": {
              "outlinewidth": 0,
              "ticks": ""
             }
            },
            "type": "scatterternary"
           }
          ],
          "surface": [
           {
            "colorbar": {
             "outlinewidth": 0,
             "ticks": ""
            },
            "colorscale": [
             [
              0,
              "#0d0887"
             ],
             [
              0.1111111111111111,
              "#46039f"
             ],
             [
              0.2222222222222222,
              "#7201a8"
             ],
             [
              0.3333333333333333,
              "#9c179e"
             ],
             [
              0.4444444444444444,
              "#bd3786"
             ],
             [
              0.5555555555555556,
              "#d8576b"
             ],
             [
              0.6666666666666666,
              "#ed7953"
             ],
             [
              0.7777777777777778,
              "#fb9f3a"
             ],
             [
              0.8888888888888888,
              "#fdca26"
             ],
             [
              1,
              "#f0f921"
             ]
            ],
            "type": "surface"
           }
          ],
          "table": [
           {
            "cells": {
             "fill": {
              "color": "#EBF0F8"
             },
             "line": {
              "color": "white"
             }
            },
            "header": {
             "fill": {
              "color": "#C8D4E3"
             },
             "line": {
              "color": "white"
             }
            },
            "type": "table"
           }
          ]
         },
         "layout": {
          "annotationdefaults": {
           "arrowcolor": "#2a3f5f",
           "arrowhead": 0,
           "arrowwidth": 1
          },
          "autotypenumbers": "strict",
          "coloraxis": {
           "colorbar": {
            "outlinewidth": 0,
            "ticks": ""
           }
          },
          "colorscale": {
           "diverging": [
            [
             0,
             "#8e0152"
            ],
            [
             0.1,
             "#c51b7d"
            ],
            [
             0.2,
             "#de77ae"
            ],
            [
             0.3,
             "#f1b6da"
            ],
            [
             0.4,
             "#fde0ef"
            ],
            [
             0.5,
             "#f7f7f7"
            ],
            [
             0.6,
             "#e6f5d0"
            ],
            [
             0.7,
             "#b8e186"
            ],
            [
             0.8,
             "#7fbc41"
            ],
            [
             0.9,
             "#4d9221"
            ],
            [
             1,
             "#276419"
            ]
           ],
           "sequential": [
            [
             0,
             "#0d0887"
            ],
            [
             0.1111111111111111,
             "#46039f"
            ],
            [
             0.2222222222222222,
             "#7201a8"
            ],
            [
             0.3333333333333333,
             "#9c179e"
            ],
            [
             0.4444444444444444,
             "#bd3786"
            ],
            [
             0.5555555555555556,
             "#d8576b"
            ],
            [
             0.6666666666666666,
             "#ed7953"
            ],
            [
             0.7777777777777778,
             "#fb9f3a"
            ],
            [
             0.8888888888888888,
             "#fdca26"
            ],
            [
             1,
             "#f0f921"
            ]
           ],
           "sequentialminus": [
            [
             0,
             "#0d0887"
            ],
            [
             0.1111111111111111,
             "#46039f"
            ],
            [
             0.2222222222222222,
             "#7201a8"
            ],
            [
             0.3333333333333333,
             "#9c179e"
            ],
            [
             0.4444444444444444,
             "#bd3786"
            ],
            [
             0.5555555555555556,
             "#d8576b"
            ],
            [
             0.6666666666666666,
             "#ed7953"
            ],
            [
             0.7777777777777778,
             "#fb9f3a"
            ],
            [
             0.8888888888888888,
             "#fdca26"
            ],
            [
             1,
             "#f0f921"
            ]
           ]
          },
          "colorway": [
           "#636efa",
           "#EF553B",
           "#00cc96",
           "#ab63fa",
           "#FFA15A",
           "#19d3f3",
           "#FF6692",
           "#B6E880",
           "#FF97FF",
           "#FECB52"
          ],
          "font": {
           "color": "#2a3f5f"
          },
          "geo": {
           "bgcolor": "white",
           "lakecolor": "white",
           "landcolor": "#E5ECF6",
           "showlakes": true,
           "showland": true,
           "subunitcolor": "white"
          },
          "hoverlabel": {
           "align": "left"
          },
          "hovermode": "closest",
          "mapbox": {
           "style": "light"
          },
          "paper_bgcolor": "white",
          "plot_bgcolor": "#E5ECF6",
          "polar": {
           "angularaxis": {
            "gridcolor": "white",
            "linecolor": "white",
            "ticks": ""
           },
           "bgcolor": "#E5ECF6",
           "radialaxis": {
            "gridcolor": "white",
            "linecolor": "white",
            "ticks": ""
           }
          },
          "scene": {
           "xaxis": {
            "backgroundcolor": "#E5ECF6",
            "gridcolor": "white",
            "gridwidth": 2,
            "linecolor": "white",
            "showbackground": true,
            "ticks": "",
            "zerolinecolor": "white"
           },
           "yaxis": {
            "backgroundcolor": "#E5ECF6",
            "gridcolor": "white",
            "gridwidth": 2,
            "linecolor": "white",
            "showbackground": true,
            "ticks": "",
            "zerolinecolor": "white"
           },
           "zaxis": {
            "backgroundcolor": "#E5ECF6",
            "gridcolor": "white",
            "gridwidth": 2,
            "linecolor": "white",
            "showbackground": true,
            "ticks": "",
            "zerolinecolor": "white"
           }
          },
          "shapedefaults": {
           "line": {
            "color": "#2a3f5f"
           }
          },
          "ternary": {
           "aaxis": {
            "gridcolor": "white",
            "linecolor": "white",
            "ticks": ""
           },
           "baxis": {
            "gridcolor": "white",
            "linecolor": "white",
            "ticks": ""
           },
           "bgcolor": "#E5ECF6",
           "caxis": {
            "gridcolor": "white",
            "linecolor": "white",
            "ticks": ""
           }
          },
          "title": {
           "x": 0.05
          },
          "xaxis": {
           "automargin": true,
           "gridcolor": "white",
           "linecolor": "white",
           "ticks": "",
           "title": {
            "standoff": 15
           },
           "zerolinecolor": "white",
           "zerolinewidth": 2
          },
          "yaxis": {
           "automargin": true,
           "gridcolor": "white",
           "linecolor": "white",
           "ticks": "",
           "title": {
            "standoff": 15
           },
           "zerolinecolor": "white",
           "zerolinewidth": 2
          }
         }
        },
        "title": {
         "text": "Distribuição dos Custos por Região e Tabagismo"
        },
        "xaxis": {
         "anchor": "y",
         "domain": [
          0,
          1
         ],
         "title": {
          "text": "region"
         }
        },
        "yaxis": {
         "anchor": "x",
         "domain": [
          0,
          1
         ],
         "title": {
          "text": "charges"
         }
        }
       }
      }
     },
     "metadata": {},
     "output_type": "display_data"
    }
   ],
   "source": [
    "# Boxplot de Custo médico por Fumante e Região\n",
    "fig = px.box(dados, x=\"region\", y=\"charges\", \n",
    "             color=\"smoker\", \n",
    "             title=\"Distribuição dos Custos por Região e Tabagismo\")\n",
    "fig.show()"
   ]
  },
  {
   "cell_type": "code",
   "execution_count": 22,
   "id": "6a63b500",
   "metadata": {},
   "outputs": [
    {
     "data": {
      "application/vnd.plotly.v1+json": {
       "config": {
        "plotlyServerURL": "https://plot.ly"
       },
       "data": [
        {
         "customdata": [
          [
           "female",
           "southwest",
           0
          ],
          [
           "female",
           "southeast",
           0
          ],
          [
           "male",
           "southeast",
           0
          ],
          [
           "male",
           "southwest",
           0
          ],
          [
           "female",
           "northeast",
           1
          ],
          [
           "male",
           "southwest",
           2
          ],
          [
           "male",
           "southwest",
           0
          ],
          [
           "male",
           "southwest",
           1
          ],
          [
           "male",
           "northeast",
           1
          ],
          [
           "male",
           "southwest",
           0
          ],
          [
           "male",
           "southeast",
           1
          ],
          [
           "male",
           "southwest",
           1
          ],
          [
           "male",
           "southeast",
           0
          ],
          [
           "male",
           "northwest",
           2
          ],
          [
           "male",
           "southeast",
           2
          ],
          [
           "female",
           "southeast",
           1
          ],
          [
           "female",
           "northwest",
           0
          ],
          [
           "male",
           "southeast",
           3
          ],
          [
           "female",
           "southeast",
           0
          ],
          [
           "male",
           "southeast",
           1
          ],
          [
           "female",
           "southwest",
           2
          ],
          [
           "male",
           "northwest",
           2
          ],
          [
           "female",
           "northwest",
           0
          ],
          [
           "male",
           "northeast",
           3
          ],
          [
           "female",
           "southwest",
           2
          ],
          [
           "male",
           "northeast",
           0
          ],
          [
           "male",
           "southwest",
           0
          ],
          [
           "female",
           "southeast",
           3
          ],
          [
           "male",
           "northwest",
           1
          ],
          [
           "male",
           "southeast",
           0
          ],
          [
           "female",
           "southeast",
           1
          ],
          [
           "male",
           "northeast",
           1
          ],
          [
           "female",
           "southwest",
           0
          ],
          [
           "female",
           "northwest",
           2
          ],
          [
           "male",
           "southeast",
           2
          ],
          [
           "male",
           "northwest",
           3
          ],
          [
           "male",
           "northwest",
           3
          ],
          [
           "female",
           "northeast",
           0
          ],
          [
           "male",
           "southeast",
           0
          ],
          [
           "male",
           "northeast",
           0
          ],
          [
           "male",
           "southeast",
           0
          ],
          [
           "female",
           "northwest",
           0
          ],
          [
           "female",
           "southeast",
           0
          ],
          [
           "female",
           "southwest",
           0
          ],
          [
           "male",
           "northeast",
           3
          ],
          [
           "female",
           "southeast",
           0
          ],
          [
           "male",
           "northeast",
           2
          ],
          [
           "male",
           "southwest",
           0
          ],
          [
           "male",
           "southeast",
           0
          ],
          [
           "female",
           "southeast",
           2
          ],
          [
           "male",
           "northwest",
           0
          ],
          [
           "female",
           "northeast",
           2
          ],
          [
           "female",
           "northeast",
           0
          ],
          [
           "male",
           "northeast",
           2
          ],
          [
           "female",
           "southwest",
           2
          ],
          [
           "male",
           "southeast",
           2
          ],
          [
           "male",
           "northeast",
           0
          ],
          [
           "male",
           "northwest",
           0
          ],
          [
           "male",
           "northwest",
           0
          ],
          [
           "female",
           "southeast",
           1
          ],
          [
           "male",
           "northeast",
           3
          ],
          [
           "male",
           "northwest",
           0
          ],
          [
           "male",
           "southeast",
           3
          ],
          [
           "male",
           "southeast",
           1
          ],
          [
           "male",
           "southwest",
           2
          ],
          [
           "female",
           "northeast",
           1
          ],
          [
           "male",
           "northeast",
           3
          ],
          [
           "female",
           "northeast",
           1
          ],
          [
           "male",
           "southeast",
           2
          ],
          [
           "male",
           "southwest",
           0
          ],
          [
           "male",
           "southeast",
           1
          ],
          [
           "male",
           "northwest",
           3
          ],
          [
           "female",
           "northeast",
           3
          ],
          [
           "male",
           "southeast",
           3
          ],
          [
           "female",
           "southwest",
           0
          ],
          [
           "male",
           "southwest",
           0
          ],
          [
           "male",
           "northwest",
           2
          ],
          [
           "female",
           "southwest",
           1
          ],
          [
           "female",
           "northeast",
           1
          ],
          [
           "male",
           "northwest",
           0
          ],
          [
           "male",
           "northeast",
           1
          ],
          [
           "female",
           "southwest",
           0
          ],
          [
           "male",
           "southwest",
           2
          ],
          [
           "female",
           "northwest",
           0
          ],
          [
           "female",
           "northeast",
           3
          ],
          [
           "male",
           "southeast",
           0
          ],
          [
           "female",
           "northeast",
           2
          ],
          [
           "male",
           "northeast",
           0
          ],
          [
           "female",
           "northeast",
           1
          ],
          [
           "female",
           "northeast",
           2
          ],
          [
           "female",
           "southwest",
           2
          ],
          [
           "female",
           "northwest",
           0
          ],
          [
           "male",
           "southeast",
           0
          ],
          [
           "male",
           "southeast",
           0
          ],
          [
           "male",
           "northeast",
           1
          ],
          [
           "female",
           "southwest",
           0
          ],
          [
           "male",
           "northwest",
           1
          ],
          [
           "male",
           "southwest",
           0
          ],
          [
           "female",
           "southeast",
           1
          ],
          [
           "male",
           "southwest",
           3
          ],
          [
           "male",
           "northwest",
           1
          ],
          [
           "male",
           "northeast",
           0
          ],
          [
           "female",
           "southeast",
           0
          ],
          [
           "male",
           "southwest",
           4
          ],
          [
           "male",
           "southwest",
           0
          ],
          [
           "male",
           "southeast",
           1
          ],
          [
           "male",
           "southeast",
           0
          ],
          [
           "male",
           "southwest",
           1
          ],
          [
           "male",
           "southeast",
           1
          ],
          [
           "male",
           "southeast",
           1
          ],
          [
           "female",
           "southeast",
           0
          ],
          [
           "male",
           "northwest",
           2
          ],
          [
           "female",
           "southeast",
           0
          ],
          [
           "female",
           "northwest",
           3
          ],
          [
           "male",
           "northwest",
           2
          ],
          [
           "female",
           "northeast",
           1
          ],
          [
           "female",
           "northwest",
           1
          ],
          [
           "female",
           "northeast",
           1
          ],
          [
           "female",
           "northwest",
           0
          ],
          [
           "female",
           "northwest",
           0
          ],
          [
           "male",
           "southwest",
           2
          ],
          [
           "female",
           "southeast",
           1
          ],
          [
           "male",
           "southwest",
           2
          ],
          [
           "female",
           "southeast",
           0
          ],
          [
           "male",
           "southwest",
           4
          ],
          [
           "male",
           "northeast",
           0
          ],
          [
           "female",
           "northwest",
           0
          ],
          [
           "male",
           "northeast",
           0
          ],
          [
           "male",
           "northwest",
           3
          ],
          [
           "female",
           "southeast",
           2
          ],
          [
           "female",
           "southeast",
           0
          ],
          [
           "male",
           "southeast",
           2
          ],
          [
           "female",
           "northwest",
           2
          ],
          [
           "male",
           "northeast",
           0
          ],
          [
           "female",
           "southeast",
           2
          ],
          [
           "male",
           "northwest",
           3
          ],
          [
           "male",
           "southwest",
           2
          ],
          [
           "male",
           "southeast",
           1
          ],
          [
           "male",
           "southeast",
           1
          ],
          [
           "female",
           "southeast",
           0
          ],
          [
           "female",
           "southeast",
           3
          ],
          [
           "female",
           "northeast",
           1
          ],
          [
           "male",
           "southeast",
           3
          ],
          [
           "female",
           "southeast",
           0
          ],
          [
           "male",
           "northeast",
           3
          ],
          [
           "male",
           "southwest",
           2
          ],
          [
           "male",
           "southeast",
           0
          ],
          [
           "male",
           "northeast",
           0
          ],
          [
           "female",
           "southeast",
           0
          ],
          [
           "female",
           "southeast",
           0
          ],
          [
           "male",
           "southeast",
           0
          ],
          [
           "male",
           "southwest",
           1
          ],
          [
           "female",
           "northwest",
           0
          ],
          [
           "male",
           "southwest",
           3
          ],
          [
           "female",
           "southwest",
           1
          ],
          [
           "male",
           "southeast",
           0
          ],
          [
           "male",
           "northwest",
           0
          ],
          [
           "male",
           "northeast",
           0
          ],
          [
           "female",
           "southeast",
           0
          ],
          [
           "female",
           "northeast",
           1
          ],
          [
           "female",
           "northwest",
           0
          ],
          [
           "male",
           "southeast",
           2
          ],
          [
           "male",
           "northeast",
           1
          ],
          [
           "male",
           "northeast",
           3
          ],
          [
           "female",
           "southeast",
           2
          ],
          [
           "female",
           "southeast",
           0
          ],
          [
           "female",
           "southeast",
           0
          ],
          [
           "female",
           "northeast",
           0
          ],
          [
           "female",
           "northeast",
           0
          ],
          [
           "female",
           "northeast",
           3
          ],
          [
           "female",
           "southeast",
           0
          ],
          [
           "male",
           "northwest",
           0
          ],
          [
           "female",
           "southwest",
           2
          ],
          [
           "female",
           "northeast",
           3
          ],
          [
           "male",
           "southeast",
           1
          ],
          [
           "male",
           "northeast",
           0
          ],
          [
           "female",
           "northwest",
           0
          ],
          [
           "male",
           "southeast",
           2
          ],
          [
           "female",
           "northeast",
           2
          ],
          [
           "male",
           "southeast",
           0
          ],
          [
           "female",
           "southwest",
           0
          ],
          [
           "male",
           "northeast",
           0
          ],
          [
           "female",
           "northwest",
           0
          ],
          [
           "male",
           "northeast",
           0
          ],
          [
           "male",
           "northeast",
           1
          ],
          [
           "male",
           "southwest",
           3
          ],
          [
           "male",
           "southeast",
           2
          ],
          [
           "male",
           "southwest",
           2
          ],
          [
           "male",
           "northwest",
           1
          ],
          [
           "male",
           "southeast",
           1
          ],
          [
           "male",
           "northeast",
           1
          ],
          [
           "male",
           "northwest",
           2
          ],
          [
           "male",
           "northeast",
           0
          ],
          [
           "male",
           "southwest",
           3
          ],
          [
           "female",
           "northeast",
           0
          ],
          [
           "female",
           "northwest",
           3
          ],
          [
           "male",
           "northwest",
           2
          ],
          [
           "male",
           "southwest",
           0
          ],
          [
           "male",
           "northwest",
           3
          ],
          [
           "male",
           "southeast",
           2
          ],
          [
           "female",
           "southeast",
           3
          ],
          [
           "male",
           "southeast",
           1
          ],
          [
           "male",
           "northwest",
           1
          ],
          [
           "female",
           "northwest",
           1
          ],
          [
           "female",
           "southeast",
           0
          ],
          [
           "male",
           "northeast",
           0
          ],
          [
           "male",
           "southeast",
           2
          ],
          [
           "female",
           "northwest",
           1
          ],
          [
           "female",
           "northwest",
           0
          ],
          [
           "male",
           "northeast",
           0
          ],
          [
           "female",
           "northwest",
           2
          ],
          [
           "male",
           "southeast",
           1
          ],
          [
           "male",
           "southwest",
           0
          ],
          [
           "male",
           "southwest",
           3
          ],
          [
           "male",
           "southeast",
           1
          ],
          [
           "male",
           "southeast",
           1
          ],
          [
           "male",
           "southeast",
           0
          ],
          [
           "female",
           "southwest",
           5
          ],
          [
           "male",
           "southeast",
           0
          ],
          [
           "female",
           "northwest",
           0
          ],
          [
           "female",
           "northeast",
           2
          ],
          [
           "female",
           "northeast",
           2
          ],
          [
           "male",
           "southeast",
           3
          ],
          [
           "female",
           "southeast",
           3
          ],
          [
           "male",
           "southeast",
           2
          ],
          [
           "male",
           "southeast",
           1
          ],
          [
           "female",
           "southwest",
           0
          ],
          [
           "female",
           "northwest",
           3
          ],
          [
           "female",
           "northeast",
           1
          ],
          [
           "female",
           "northwest",
           0
          ],
          [
           "male",
           "southwest",
           0
          ],
          [
           "female",
           "southeast",
           3
          ],
          [
           "male",
           "southeast",
           0
          ],
          [
           "male",
           "northeast",
           1
          ],
          [
           "female",
           "southwest",
           2
          ],
          [
           "female",
           "northwest",
           1
          ],
          [
           "male",
           "southeast",
           0
          ],
          [
           "female",
           "southeast",
           1
          ],
          [
           "male",
           "northwest",
           3
          ],
          [
           "female",
           "northeast",
           1
          ],
          [
           "female",
           "northwest",
           0
          ],
          [
           "female",
           "southeast",
           3
          ],
          [
           "male",
           "southwest",
           2
          ],
          [
           "female",
           "northeast",
           1
          ],
          [
           "female",
           "southwest",
           1
          ],
          [
           "female",
           "southeast",
           0
          ],
          [
           "male",
           "northwest",
           3
          ],
          [
           "female",
           "southwest",
           0
          ],
          [
           "male",
           "southeast",
           2
          ],
          [
           "male",
           "southeast",
           2
          ],
          [
           "male",
           "northeast",
           1
          ],
          [
           "male",
           "northeast",
           0
          ],
          [
           "male",
           "southwest",
           0
          ],
          [
           "male",
           "southeast",
           0
          ],
          [
           "male",
           "northeast",
           0
          ],
          [
           "male",
           "southeast",
           0
          ],
          [
           "male",
           "northeast",
           1
          ],
          [
           "female",
           "northwest",
           2
          ],
          [
           "female",
           "northeast",
           0
          ],
          [
           "male",
           "southwest",
           1
          ],
          [
           "male",
           "southwest",
           2
          ],
          [
           "male",
           "southwest",
           0
          ],
          [
           "male",
           "southeast",
           0
          ],
          [
           "male",
           "northwest",
           3
          ],
          [
           "male",
           "southwest",
           0
          ],
          [
           "male",
           "northeast",
           2
          ],
          [
           "female",
           "northeast",
           0
          ],
          [
           "male",
           "northwest",
           4
          ],
          [
           "female",
           "southwest",
           0
          ],
          [
           "female",
           "southwest",
           2
          ],
          [
           "female",
           "northwest",
           3
          ],
          [
           "male",
           "northeast",
           0
          ],
          [
           "female",
           "southeast",
           2
          ],
          [
           "female",
           "northwest",
           0
          ]
         ],
         "hovertemplate": "smoker=yes<br>age=%{x}<br>charges=%{y}<br>bmi=%{marker.size}<br>sex=%{customdata[0]}<br>region=%{customdata[1]}<br>children=%{customdata[2]}<extra></extra>",
         "legendgroup": "yes",
         "marker": {
          "color": "#636efa",
          "size": {
           "bdata": "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",
           "dtype": "f8"
          },
          "sizemode": "area",
          "sizeref": 0.132825,
          "symbol": "circle"
         },
         "mode": "markers",
         "name": "yes",
         "showlegend": true,
         "type": "scattergl",
         "x": {
          "bdata": "Ez4bHiIfFhwjPCQwJDoSNRQcGxYlLTk7QDgmPRQ/HSwTICIeLiowEh4qEj8kGyMTKigTFz8SPzYyOBMUNBMuKDIoNjsZEy8fNSsbIi1APTQyExoXJxgbNywaJD9APSghOCoeNj0YLBUdMxMnKjk2MSsjMB8iFRM7Hi8xEyUSLCcqNEArKD4sPCcbKTMeHSMlFx0bNSUvEiETHjI1GyESLyE4JCkXOTwlLjEwGSUzIDlALys8IBIrLSUZMywiNiszHR8YGx4YLysWLxMuNxIWLSMUKxYxLzslHCcvFjMhJjAZIRc1FxM8KxMSKzQfFxQrExIkJS4UNBQ0QCAYFEAYGicvEj0UEy0+KyodIBkTHj4qPQ==",
          "dtype": "i1"
         },
         "xaxis": "x",
         "y": {
          "bdata": "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",
          "dtype": "f8"
         },
         "yaxis": "y"
        },
        {
         "customdata": [
          [
           "male",
           "southeast",
           1
          ],
          [
           "male",
           "southeast",
           3
          ],
          [
           "male",
           "northwest",
           0
          ],
          [
           "male",
           "northwest",
           0
          ],
          [
           "female",
           "southeast",
           0
          ],
          [
           "female",
           "southeast",
           1
          ],
          [
           "female",
           "northwest",
           3
          ],
          [
           "male",
           "northeast",
           2
          ],
          [
           "female",
           "northwest",
           0
          ],
          [
           "male",
           "northeast",
           0
          ],
          [
           "male",
           "southwest",
           0
          ],
          [
           "female",
           "southeast",
           0
          ],
          [
           "male",
           "southwest",
           1
          ],
          [
           "female",
           "northeast",
           1
          ],
          [
           "male",
           "northeast",
           0
          ],
          [
           "male",
           "southwest",
           0
          ],
          [
           "female",
           "northeast",
           0
          ],
          [
           "female",
           "southwest",
           1
          ],
          [
           "male",
           "southeast",
           0
          ],
          [
           "male",
           "northwest",
           2
          ],
          [
           "female",
           "southeast",
           3
          ],
          [
           "female",
           "northeast",
           0
          ],
          [
           "female",
           "northwest",
           2
          ],
          [
           "male",
           "northwest",
           1
          ],
          [
           "female",
           "northeast",
           0
          ],
          [
           "female",
           "southwest",
           5
          ],
          [
           "male",
           "northwest",
           0
          ],
          [
           "male",
           "northwest",
           0
          ],
          [
           "female",
           "northwest",
           3
          ],
          [
           "male",
           "southwest",
           0
          ],
          [
           "female",
           "northeast",
           0
          ],
          [
           "female",
           "southeast",
           2
          ],
          [
           "male",
           "southeast",
           1
          ],
          [
           "female",
           "southeast",
           2
          ],
          [
           "male",
           "northeast",
           1
          ],
          [
           "male",
           "southwest",
           0
          ],
          [
           "female",
           "northeast",
           2
          ],
          [
           "female",
           "northwest",
           0
          ],
          [
           "female",
           "southeast",
           0
          ],
          [
           "female",
           "northeast",
           0
          ],
          [
           "female",
           "northwest",
           2
          ],
          [
           "female",
           "northwest",
           3
          ],
          [
           "female",
           "northeast",
           2
          ],
          [
           "female",
           "northwest",
           2
          ],
          [
           "male",
           "northeast",
           3
          ],
          [
           "male",
           "southeast",
           4
          ],
          [
           "male",
           "northwest",
           1
          ],
          [
           "female",
           "northwest",
           1
          ],
          [
           "female",
           "southwest",
           0
          ],
          [
           "female",
           "southwest",
           2
          ],
          [
           "male",
           "northwest",
           1
          ],
          [
           "female",
           "southeast",
           0
          ],
          [
           "male",
           "northeast",
           5
          ],
          [
           "female",
           "southwest",
           3
          ],
          [
           "male",
           "southeast",
           1
          ],
          [
           "male",
           "southwest",
           2
          ],
          [
           "male",
           "northwest",
           0
          ],
          [
           "female",
           "southeast",
           1
          ],
          [
           "male",
           "southeast",
           0
          ],
          [
           "female",
           "northeast",
           0
          ],
          [
           "female",
           "northwest",
           0
          ],
          [
           "male",
           "northeast",
           1
          ],
          [
           "female",
           "northeast",
           0
          ],
          [
           "female",
           "northwest",
           4
          ],
          [
           "female",
           "southwest",
           0
          ],
          [
           "female",
           "northwest",
           0
          ],
          [
           "female",
           "northwest",
           0
          ],
          [
           "female",
           "southeast",
           0
          ],
          [
           "female",
           "northwest",
           1
          ],
          [
           "male",
           "northwest",
           2
          ],
          [
           "female",
           "southeast",
           1
          ],
          [
           "female",
           "southwest",
           3
          ],
          [
           "male",
           "southeast",
           0
          ],
          [
           "female",
           "southwest",
           0
          ],
          [
           "male",
           "northeast",
           0
          ],
          [
           "female",
           "northeast",
           0
          ],
          [
           "female",
           "southwest",
           1
          ],
          [
           "female",
           "southwest",
           1
          ],
          [
           "male",
           "northwest",
           2
          ],
          [
           "male",
           "southeast",
           0
          ],
          [
           "male",
           "northwest",
           1
          ],
          [
           "female",
           "southwest",
           2
          ],
          [
           "male",
           "southwest",
           0
          ],
          [
           "female",
           "northwest",
           0
          ],
          [
           "male",
           "northeast",
           3
          ],
          [
           "male",
           "northeast",
           0
          ],
          [
           "male",
           "southeast",
           0
          ],
          [
           "female",
           "southeast",
           0
          ],
          [
           "female",
           "northwest",
           2
          ],
          [
           "male",
           "southwest",
           2
          ],
          [
           "male",
           "northeast",
           0
          ],
          [
           "female",
           "northwest",
           0
          ],
          [
           "female",
           "northwest",
           3
          ],
          [
           "female",
           "northeast",
           0
          ],
          [
           "female",
           "southwest",
           0
          ],
          [
           "male",
           "southwest",
           2
          ],
          [
           "female",
           "northeast",
           0
          ],
          [
           "female",
           "northeast",
           0
          ],
          [
           "female",
           "southwest",
           2
          ],
          [
           "male",
           "northwest",
           0
          ],
          [
           "female",
           "northeast",
           0
          ],
          [
           "female",
           "southeast",
           0
          ],
          [
           "male",
           "southwest",
           0
          ],
          [
           "male",
           "northwest",
           0
          ],
          [
           "female",
           "southeast",
           3
          ],
          [
           "female",
           "southwest",
           0
          ],
          [
           "male",
           "northeast",
           2
          ],
          [
           "male",
           "northeast",
           1
          ],
          [
           "male",
           "northwest",
           2
          ],
          [
           "female",
           "southeast",
           3
          ],
          [
           "female",
           "southeast",
           1
          ],
          [
           "female",
           "northwest",
           1
          ],
          [
           "male",
           "southwest",
           1
          ],
          [
           "male",
           "northwest",
           1
          ],
          [
           "male",
           "southeast",
           0
          ],
          [
           "female",
           "northeast",
           3
          ],
          [
           "female",
           "northeast",
           1
          ],
          [
           "male",
           "northwest",
           0
          ],
          [
           "female",
           "southeast",
           3
          ],
          [
           "male",
           "southwest",
           1
          ],
          [
           "female",
           "southwest",
           2
          ],
          [
           "male",
           "northwest",
           0
          ],
          [
           "male",
           "northeast",
           4
          ],
          [
           "female",
           "southwest",
           5
          ],
          [
           "female",
           "northwest",
           3
          ],
          [
           "female",
           "northwest",
           1
          ],
          [
           "male",
           "northeast",
           3
          ],
          [
           "male",
           "southeast",
           0
          ],
          [
           "male",
           "southwest",
           0
          ],
          [
           "male",
           "northeast",
           0
          ],
          [
           "female",
           "southwest",
           1
          ],
          [
           "female",
           "northwest",
           0
          ],
          [
           "male",
           "northwest",
           2
          ],
          [
           "male",
           "southwest",
           1
          ],
          [
           "female",
           "southwest",
           2
          ],
          [
           "female",
           "northeast",
           3
          ],
          [
           "male",
           "northwest",
           0
          ],
          [
           "female",
           "southeast",
           0
          ],
          [
           "male",
           "northeast",
           3
          ],
          [
           "female",
           "northwest",
           0
          ],
          [
           "male",
           "southeast",
           2
          ],
          [
           "female",
           "southeast",
           2
          ],
          [
           "female",
           "southwest",
           3
          ],
          [
           "female",
           "southwest",
           1
          ],
          [
           "female",
           "northwest",
           2
          ],
          [
           "male",
           "southeast",
           0
          ],
          [
           "female",
           "southwest",
           0
          ],
          [
           "male",
           "southeast",
           0
          ],
          [
           "female",
           "northwest",
           1
          ],
          [
           "male",
           "southeast",
           0
          ],
          [
           "male",
           "northwest",
           0
          ],
          [
           "female",
           "southwest",
           0
          ],
          [
           "female",
           "southeast",
           2
          ],
          [
           "female",
           "northwest",
           0
          ],
          [
           "female",
           "northeast",
           0
          ],
          [
           "female",
           "northwest",
           0
          ],
          [
           "female",
           "southeast",
           1
          ],
          [
           "female",
           "northwest",
           0
          ],
          [
           "male",
           "southwest",
           0
          ],
          [
           "female",
           "northeast",
           1
          ],
          [
           "male",
           "southeast",
           0
          ],
          [
           "female",
           "southwest",
           0
          ],
          [
           "male",
           "northeast",
           1
          ],
          [
           "male",
           "southwest",
           1
          ],
          [
           "male",
           "northwest",
           4
          ],
          [
           "male",
           "northwest",
           2
          ],
          [
           "female",
           "southeast",
           1
          ],
          [
           "female",
           "southwest",
           2
          ],
          [
           "female",
           "southwest",
           2
          ],
          [
           "female",
           "northwest",
           0
          ],
          [
           "male",
           "southeast",
           0
          ],
          [
           "female",
           "southeast",
           1
          ],
          [
           "female",
           "southeast",
           0
          ],
          [
           "female",
           "southwest",
           1
          ],
          [
           "female",
           "northeast",
           0
          ],
          [
           "male",
           "southwest",
           3
          ],
          [
           "male",
           "southeast",
           3
          ],
          [
           "male",
           "southeast",
           0
          ],
          [
           "female",
           "southeast",
           0
          ],
          [
           "female",
           "northeast",
           1
          ],
          [
           "male",
           "northeast",
           2
          ],
          [
           "female",
           "northwest",
           1
          ],
          [
           "female",
           "southeast",
           3
          ],
          [
           "female",
           "southwest",
           0
          ],
          [
           "male",
           "southwest",
           1
          ],
          [
           "male",
           "northwest",
           2
          ],
          [
           "female",
           "southeast",
           0
          ],
          [
           "male",
           "southeast",
           2
          ],
          [
           "male",
           "southeast",
           1
          ],
          [
           "female",
           "northeast",
           1
          ],
          [
           "female",
           "southwest",
           1
          ],
          [
           "male",
           "southwest",
           3
          ],
          [
           "male",
           "northwest",
           0
          ],
          [
           "female",
           "southeast",
           0
          ],
          [
           "male",
           "southeast",
           0
          ],
          [
           "male",
           "southwest",
           1
          ],
          [
           "male",
           "northeast",
           1
          ],
          [
           "male",
           "southwest",
           3
          ],
          [
           "female",
           "northeast",
           3
          ],
          [
           "female",
           "southeast",
           0
          ],
          [
           "male",
           "northwest",
           4
          ],
          [
           "female",
           "southwest",
           0
          ],
          [
           "female",
           "southeast",
           3
          ],
          [
           "female",
           "northeast",
           3
          ],
          [
           "male",
           "southwest",
           1
          ],
          [
           "male",
           "northeast",
           1
          ],
          [
           "male",
           "southeast",
           1
          ],
          [
           "male",
           "northwest",
           2
          ],
          [
           "male",
           "northeast",
           1
          ],
          [
           "male",
           "northwest",
           0
          ],
          [
           "female",
           "northeast",
           2
          ],
          [
           "male",
           "northwest",
           2
          ],
          [
           "female",
           "southwest",
           0
          ],
          [
           "male",
           "southeast",
           2
          ],
          [
           "female",
           "southeast",
           1
          ],
          [
           "male",
           "northeast",
           1
          ],
          [
           "female",
           "northeast",
           1
          ],
          [
           "female",
           "southwest",
           0
          ],
          [
           "male",
           "southeast",
           1
          ],
          [
           "female",
           "northeast",
           2
          ],
          [
           "female",
           "northwest",
           0
          ],
          [
           "male",
           "southeast",
           3
          ],
          [
           "female",
           "southwest",
           0
          ],
          [
           "male",
           "northeast",
           1
          ],
          [
           "female",
           "southeast",
           0
          ],
          [
           "male",
           "southwest",
           3
          ],
          [
           "male",
           "northeast",
           0
          ],
          [
           "female",
           "northwest",
           1
          ],
          [
           "male",
           "northeast",
           3
          ],
          [
           "female",
           "southeast",
           2
          ],
          [
           "female",
           "southeast",
           2
          ],
          [
           "female",
           "southwest",
           2
          ],
          [
           "male",
           "northwest",
           2
          ],
          [
           "female",
           "southwest",
           2
          ],
          [
           "female",
           "southeast",
           1
          ],
          [
           "male",
           "northeast",
           0
          ],
          [
           "female",
           "northwest",
           2
          ],
          [
           "male",
           "southwest",
           0
          ],
          [
           "female",
           "southwest",
           0
          ],
          [
           "male",
           "southeast",
           0
          ],
          [
           "male",
           "northeast",
           0
          ],
          [
           "male",
           "northwest",
           0
          ],
          [
           "male",
           "northeast",
           0
          ],
          [
           "female",
           "northwest",
           0
          ],
          [
           "male",
           "northeast",
           1
          ],
          [
           "male",
           "northwest",
           1
          ],
          [
           "female",
           "northeast",
           4
          ],
          [
           "male",
           "northeast",
           0
          ],
          [
           "male",
           "southwest",
           0
          ],
          [
           "male",
           "northeast",
           1
          ],
          [
           "female",
           "southeast",
           1
          ],
          [
           "male",
           "southwest",
           0
          ],
          [
           "female",
           "northwest",
           0
          ],
          [
           "female",
           "northeast",
           0
          ],
          [
           "female",
           "northeast",
           2
          ],
          [
           "male",
           "southwest",
           0
          ],
          [
           "male",
           "southeast",
           0
          ],
          [
           "male",
           "northwest",
           1
          ],
          [
           "female",
           "southeast",
           1
          ],
          [
           "female",
           "southwest",
           0
          ],
          [
           "male",
           "northwest",
           0
          ],
          [
           "female",
           "northeast",
           0
          ],
          [
           "male",
           "northeast",
           0
          ],
          [
           "female",
           "southeast",
           4
          ],
          [
           "female",
           "southeast",
           3
          ],
          [
           "male",
           "southeast",
           2
          ],
          [
           "male",
           "northeast",
           1
          ],
          [
           "female",
           "southeast",
           1
          ],
          [
           "male",
           "northwest",
           0
          ],
          [
           "female",
           "northwest",
           0
          ],
          [
           "female",
           "southwest",
           0
          ],
          [
           "female",
           "southwest",
           0
          ],
          [
           "male",
           "northeast",
           0
          ],
          [
           "female",
           "southeast",
           0
          ],
          [
           "male",
           "southwest",
           0
          ],
          [
           "male",
           "southeast",
           3
          ],
          [
           "male",
           "northwest",
           3
          ],
          [
           "male",
           "southeast",
           0
          ],
          [
           "female",
           "southeast",
           0
          ],
          [
           "female",
           "northeast",
           2
          ],
          [
           "male",
           "southwest",
           1
          ],
          [
           "female",
           "southwest",
           1
          ],
          [
           "female",
           "southeast",
           2
          ],
          [
           "female",
           "northeast",
           1
          ],
          [
           "female",
           "northeast",
           3
          ],
          [
           "female",
           "northwest",
           2
          ],
          [
           "male",
           "northwest",
           2
          ],
          [
           "male",
           "northeast",
           3
          ],
          [
           "female",
           "northwest",
           0
          ],
          [
           "female",
           "northeast",
           0
          ],
          [
           "female",
           "northeast",
           1
          ],
          [
           "male",
           "southeast",
           0
          ],
          [
           "female",
           "northwest",
           3
          ],
          [
           "male",
           "southeast",
           1
          ],
          [
           "male",
           "southeast",
           0
          ],
          [
           "female",
           "southeast",
           2
          ],
          [
           "male",
           "northeast",
           2
          ],
          [
           "male",
           "southwest",
           0
          ],
          [
           "female",
           "southeast",
           0
          ],
          [
           "male",
           "northwest",
           2
          ],
          [
           "female",
           "northwest",
           0
          ],
          [
           "female",
           "northwest",
           3
          ],
          [
           "male",
           "northeast",
           4
          ],
          [
           "female",
           "northwest",
           0
          ],
          [
           "male",
           "northeast",
           1
          ],
          [
           "male",
           "northeast",
           1
          ],
          [
           "female",
           "northeast",
           2
          ],
          [
           "male",
           "northwest",
           0
          ],
          [
           "female",
           "southwest",
           3
          ],
          [
           "male",
           "southeast",
           0
          ],
          [
           "male",
           "southwest",
           2
          ],
          [
           "female",
           "southeast",
           0
          ],
          [
           "female",
           "southwest",
           0
          ],
          [
           "male",
           "southeast",
           1
          ],
          [
           "female",
           "northwest",
           0
          ],
          [
           "male",
           "northwest",
           3
          ],
          [
           "male",
           "southwest",
           0
          ],
          [
           "female",
           "northeast",
           2
          ],
          [
           "female",
           "southeast",
           0
          ],
          [
           "female",
           "southwest",
           1
          ],
          [
           "male",
           "southeast",
           3
          ],
          [
           "male",
           "southeast",
           1
          ],
          [
           "male",
           "northwest",
           0
          ],
          [
           "male",
           "southwest",
           5
          ],
          [
           "female",
           "northwest",
           0
          ],
          [
           "female",
           "southeast",
           1
          ],
          [
           "male",
           "southeast",
           0
          ],
          [
           "male",
           "southeast",
           1
          ],
          [
           "male",
           "northeast",
           0
          ],
          [
           "male",
           "southwest",
           2
          ],
          [
           "male",
           "southeast",
           5
          ],
          [
           "female",
           "northeast",
           1
          ],
          [
           "female",
           "northeast",
           0
          ],
          [
           "female",
           "northeast",
           1
          ],
          [
           "female",
           "northwest",
           3
          ],
          [
           "male",
           "southwest",
           0
          ],
          [
           "female",
           "northwest",
           2
          ],
          [
           "male",
           "southwest",
           0
          ],
          [
           "female",
           "southwest",
           0
          ],
          [
           "male",
           "northwest",
           1
          ],
          [
           "male",
           "southeast",
           3
          ],
          [
           "male",
           "northeast",
           0
          ],
          [
           "male",
           "southwest",
           3
          ],
          [
           "female",
           "southeast",
           5
          ],
          [
           "male",
           "northeast",
           0
          ],
          [
           "female",
           "northwest",
           1
          ],
          [
           "male",
           "southeast",
           0
          ],
          [
           "female",
           "southeast",
           1
          ],
          [
           "female",
           "southwest",
           0
          ],
          [
           "male",
           "northeast",
           0
          ],
          [
           "female",
           "northwest",
           0
          ],
          [
           "female",
           "southwest",
           0
          ],
          [
           "male",
           "southwest",
           1
          ],
          [
           "male",
           "southwest",
           4
          ],
          [
           "male",
           "northwest",
           1
          ],
          [
           "male",
           "southwest",
           0
          ],
          [
           "male",
           "northwest",
           0
          ],
          [
           "male",
           "southeast",
           2
          ],
          [
           "male",
           "southwest",
           0
          ],
          [
           "female",
           "southeast",
           2
          ],
          [
           "female",
           "northwest",
           0
          ],
          [
           "male",
           "southwest",
           0
          ],
          [
           "female",
           "southeast",
           3
          ],
          [
           "female",
           "southeast",
           3
          ],
          [
           "female",
           "northeast",
           2
          ],
          [
           "male",
           "northeast",
           0
          ],
          [
           "male",
           "northwest",
           0
          ],
          [
           "female",
           "southwest",
           1
          ],
          [
           "female",
           "northwest",
           2
          ],
          [
           "female",
           "northeast",
           1
          ],
          [
           "female",
           "southeast",
           1
          ],
          [
           "male",
           "southeast",
           0
          ],
          [
           "female",
           "northeast",
           0
          ],
          [
           "female",
           "southwest",
           0
          ],
          [
           "female",
           "northeast",
           0
          ],
          [
           "male",
           "northwest",
           0
          ],
          [
           "male",
           "southeast",
           0
          ],
          [
           "male",
           "southeast",
           0
          ],
          [
           "male",
           "northwest",
           3
          ],
          [
           "male",
           "southeast",
           2
          ],
          [
           "female",
           "southeast",
           0
          ],
          [
           "female",
           "southwest",
           1
          ],
          [
           "male",
           "southwest",
           3
          ],
          [
           "female",
           "northeast",
           0
          ],
          [
           "female",
           "northwest",
           3
          ],
          [
           "male",
           "southwest",
           0
          ],
          [
           "male",
           "northwest",
           1
          ],
          [
           "female",
           "southwest",
           0
          ],
          [
           "female",
           "southeast",
           0
          ],
          [
           "female",
           "northeast",
           0
          ],
          [
           "male",
           "southwest",
           0
          ],
          [
           "male",
           "northeast",
           0
          ],
          [
           "female",
           "southwest",
           2
          ],
          [
           "male",
           "southwest",
           2
          ],
          [
           "female",
           "southeast",
           2
          ],
          [
           "female",
           "southwest",
           0
          ],
          [
           "male",
           "northeast",
           0
          ],
          [
           "female",
           "southeast",
           1
          ],
          [
           "male",
           "northwest",
           3
          ],
          [
           "male",
           "northwest",
           1
          ],
          [
           "male",
           "northwest",
           2
          ],
          [
           "female",
           "northeast",
           0
          ],
          [
           "female",
           "southwest",
           0
          ],
          [
           "male",
           "northeast",
           1
          ],
          [
           "male",
           "southeast",
           0
          ],
          [
           "male",
           "northeast",
           0
          ],
          [
           "male",
           "southwest",
           0
          ],
          [
           "male",
           "southwest",
           0
          ],
          [
           "male",
           "southeast",
           1
          ],
          [
           "male",
           "northwest",
           2
          ],
          [
           "female",
           "southwest",
           1
          ],
          [
           "male",
           "northeast",
           0
          ],
          [
           "female",
           "northeast",
           0
          ],
          [
           "female",
           "southeast",
           0
          ],
          [
           "female",
           "northeast",
           0
          ],
          [
           "female",
           "southeast",
           0
          ],
          [
           "female",
           "southeast",
           0
          ],
          [
           "female",
           "northwest",
           2
          ],
          [
           "female",
           "southwest",
           1
          ],
          [
           "male",
           "northeast",
           1
          ],
          [
           "male",
           "northeast",
           0
          ],
          [
           "female",
           "northeast",
           0
          ],
          [
           "male",
           "southeast",
           2
          ],
          [
           "male",
           "southeast",
           0
          ],
          [
           "male",
           "southeast",
           0
          ],
          [
           "male",
           "northeast",
           1
          ],
          [
           "female",
           "southwest",
           3
          ],
          [
           "female",
           "southwest",
           2
          ],
          [
           "female",
           "southeast",
           1
          ],
          [
           "male",
           "southeast",
           0
          ],
          [
           "female",
           "southwest",
           3
          ],
          [
           "female",
           "southeast",
           2
          ],
          [
           "female",
           "southeast",
           0
          ],
          [
           "male",
           "northwest",
           0
          ],
          [
           "male",
           "northeast",
           0
          ],
          [
           "female",
           "southwest",
           2
          ],
          [
           "female",
           "northeast",
           0
          ],
          [
           "male",
           "southwest",
           0
          ],
          [
           "female",
           "southeast",
           0
          ],
          [
           "male",
           "southwest",
           0
          ],
          [
           "female",
           "northwest",
           2
          ],
          [
           "female",
           "northeast",
           0
          ],
          [
           "male",
           "southwest",
           2
          ],
          [
           "male",
           "northeast",
           1
          ],
          [
           "male",
           "southeast",
           0
          ],
          [
           "male",
           "northwest",
           0
          ],
          [
           "female",
           "northwest",
           2
          ],
          [
           "female",
           "northeast",
           0
          ],
          [
           "male",
           "southwest",
           0
          ],
          [
           "male",
           "southeast",
           1
          ],
          [
           "female",
           "southeast",
           2
          ],
          [
           "female",
           "northwest",
           0
          ],
          [
           "female",
           "northwest",
           1
          ],
          [
           "male",
           "northwest",
           2
          ],
          [
           "female",
           "southwest",
           5
          ],
          [
           "female",
           "southwest",
           0
          ],
          [
           "female",
           "southeast",
           1
          ],
          [
           "female",
           "southeast",
           2
          ],
          [
           "female",
           "northeast",
           1
          ],
          [
           "female",
           "northeast",
           2
          ],
          [
           "female",
           "northwest",
           0
          ],
          [
           "male",
           "southeast",
           0
          ],
          [
           "male",
           "southwest",
           1
          ],
          [
           "female",
           "northeast",
           0
          ],
          [
           "male",
           "northeast",
           1
          ],
          [
           "male",
           "northwest",
           0
          ],
          [
           "male",
           "southeast",
           2
          ],
          [
           "female",
           "southeast",
           1
          ],
          [
           "male",
           "southwest",
           0
          ],
          [
           "female",
           "southeast",
           1
          ],
          [
           "male",
           "northeast",
           3
          ],
          [
           "female",
           "northeast",
           0
          ],
          [
           "female",
           "southeast",
           1
          ],
          [
           "female",
           "southwest",
           0
          ],
          [
           "male",
           "northwest",
           1
          ],
          [
           "male",
           "southeast",
           2
          ],
          [
           "male",
           "southeast",
           0
          ],
          [
           "female",
           "northeast",
           1
          ],
          [
           "female",
           "southeast",
           2
          ],
          [
           "female",
           "northeast",
           1
          ],
          [
           "male",
           "southwest",
           2
          ],
          [
           "female",
           "northwest",
           2
          ],
          [
           "female",
           "southeast",
           0
          ],
          [
           "male",
           "northwest",
           0
          ],
          [
           "female",
           "southwest",
           0
          ],
          [
           "female",
           "southeast",
           3
          ],
          [
           "female",
           "southeast",
           0
          ],
          [
           "female",
           "northeast",
           0
          ],
          [
           "male",
           "northeast",
           2
          ],
          [
           "female",
           "southeast",
           1
          ],
          [
           "female",
           "southwest",
           2
          ],
          [
           "female",
           "northeast",
           0
          ],
          [
           "female",
           "northeast",
           3
          ],
          [
           "female",
           "southeast",
           0
          ],
          [
           "female",
           "northeast",
           0
          ],
          [
           "female",
           "southwest",
           0
          ],
          [
           "male",
           "southwest",
           1
          ],
          [
           "female",
           "southwest",
           1
          ],
          [
           "male",
           "northwest",
           0
          ],
          [
           "female",
           "northwest",
           0
          ],
          [
           "male",
           "northeast",
           3
          ],
          [
           "male",
           "southeast",
           1
          ],
          [
           "male",
           "southwest",
           0
          ],
          [
           "male",
           "southwest",
           1
          ],
          [
           "male",
           "southwest",
           0
          ],
          [
           "female",
           "southeast",
           0
          ],
          [
           "male",
           "northeast",
           2
          ],
          [
           "male",
           "southwest",
           1
          ],
          [
           "male",
           "northeast",
           0
          ],
          [
           "female",
           "northwest",
           1
          ],
          [
           "female",
           "northeast",
           2
          ],
          [
           "male",
           "southeast",
           4
          ],
          [
           "male",
           "southwest",
           5
          ],
          [
           "male",
           "northeast",
           0
          ],
          [
           "female",
           "northwest",
           3
          ],
          [
           "male",
           "southeast",
           2
          ],
          [
           "male",
           "northeast",
           3
          ],
          [
           "male",
           "northwest",
           1
          ],
          [
           "female",
           "northeast",
           3
          ],
          [
           "male",
           "northeast",
           0
          ],
          [
           "female",
           "northeast",
           0
          ],
          [
           "female",
           "southeast",
           2
          ],
          [
           "female",
           "southeast",
           1
          ],
          [
           "female",
           "southeast",
           0
          ],
          [
           "female",
           "southeast",
           2
          ],
          [
           "female",
           "southeast",
           0
          ],
          [
           "female",
           "southwest",
           1
          ],
          [
           "male",
           "northwest",
           2
          ],
          [
           "female",
           "northeast",
           1
          ],
          [
           "female",
           "northeast",
           4
          ],
          [
           "male",
           "southeast",
           3
          ],
          [
           "female",
           "southeast",
           1
          ],
          [
           "female",
           "northeast",
           1
          ],
          [
           "male",
           "southeast",
           0
          ],
          [
           "male",
           "southwest",
           1
          ],
          [
           "female",
           "southeast",
           1
          ],
          [
           "male",
           "southeast",
           3
          ],
          [
           "female",
           "northeast",
           0
          ],
          [
           "male",
           "southeast",
           0
          ],
          [
           "female",
           "southeast",
           0
          ],
          [
           "male",
           "northwest",
           0
          ],
          [
           "female",
           "southeast",
           3
          ],
          [
           "male",
           "southwest",
           3
          ],
          [
           "female",
           "northwest",
           2
          ],
          [
           "female",
           "southwest",
           1
          ],
          [
           "male",
           "southwest",
           0
          ],
          [
           "male",
           "northwest",
           0
          ],
          [
           "female",
           "southwest",
           1
          ],
          [
           "male",
           "northeast",
           2
          ],
          [
           "male",
           "northeast",
           2
          ],
          [
           "male",
           "southeast",
           0
          ],
          [
           "female",
           "southwest",
           1
          ],
          [
           "male",
           "northeast",
           0
          ],
          [
           "male",
           "southwest",
           1
          ],
          [
           "male",
           "northwest",
           1
          ],
          [
           "male",
           "northwest",
           0
          ],
          [
           "female",
           "southwest",
           1
          ],
          [
           "female",
           "northwest",
           0
          ],
          [
           "female",
           "northeast",
           2
          ],
          [
           "male",
           "northwest",
           0
          ],
          [
           "female",
           "southeast",
           2
          ],
          [
           "female",
           "southeast",
           0
          ],
          [
           "female",
           "northeast",
           0
          ],
          [
           "male",
           "southeast",
           0
          ],
          [
           "female",
           "northwest",
           1
          ],
          [
           "female",
           "northwest",
           1
          ],
          [
           "female",
           "southwest",
           2
          ],
          [
           "male",
           "northwest",
           3
          ],
          [
           "female",
           "northeast",
           3
          ],
          [
           "female",
           "northeast",
           0
          ],
          [
           "male",
           "southeast",
           1
          ],
          [
           "female",
           "southeast",
           2
          ],
          [
           "female",
           "northwest",
           2
          ],
          [
           "male",
           "northeast",
           0
          ],
          [
           "female",
           "southwest",
           0
          ],
          [
           "male",
           "southwest",
           0
          ],
          [
           "female",
           "northwest",
           1
          ],
          [
           "male",
           "northwest",
           1
          ],
          [
           "female",
           "northwest",
           2
          ],
          [
           "female",
           "northwest",
           0
          ],
          [
           "female",
           "northeast",
           0
          ],
          [
           "male",
           "southwest",
           3
          ],
          [
           "male",
           "southwest",
           0
          ],
          [
           "male",
           "southwest",
           0
          ],
          [
           "female",
           "northeast",
           1
          ],
          [
           "male",
           "northwest",
           1
          ],
          [
           "female",
           "northeast",
           0
          ],
          [
           "female",
           "southeast",
           1
          ],
          [
           "male",
           "southwest",
           1
          ],
          [
           "female",
           "southwest",
           3
          ],
          [
           "female",
           "northeast",
           1
          ],
          [
           "female",
           "southwest",
           3
          ],
          [
           "female",
           "northwest",
           1
          ],
          [
           "male",
           "southwest",
           2
          ],
          [
           "male",
           "northeast",
           2
          ],
          [
           "female",
           "southeast",
           0
          ],
          [
           "male",
           "northwest",
           0
          ],
          [
           "female",
           "northwest",
           1
          ],
          [
           "male",
           "southwest",
           2
          ],
          [
           "male",
           "northwest",
           0
          ],
          [
           "female",
           "southwest",
           1
          ],
          [
           "male",
           "northwest",
           0
          ],
          [
           "male",
           "northwest",
           0
          ],
          [
           "male",
           "northwest",
           0
          ],
          [
           "female",
           "southeast",
           0
          ],
          [
           "male",
           "northeast",
           4
          ],
          [
           "male",
           "northeast",
           2
          ],
          [
           "female",
           "northeast",
           3
          ],
          [
           "male",
           "northeast",
           3
          ],
          [
           "female",
           "northeast",
           2
          ],
          [
           "male",
           "southwest",
           1
          ],
          [
           "male",
           "northeast",
           0
          ],
          [
           "female",
           "northeast",
           2
          ],
          [
           "female",
           "northwest",
           0
          ],
          [
           "male",
           "southwest",
           1
          ],
          [
           "female",
           "southwest",
           1
          ],
          [
           "female",
           "southwest",
           0
          ],
          [
           "female",
           "northwest",
           2
          ],
          [
           "male",
           "southwest",
           3
          ],
          [
           "female",
           "southwest",
           2
          ],
          [
           "female",
           "northeast",
           0
          ],
          [
           "male",
           "northwest",
           2
          ],
          [
           "male",
           "southeast",
           3
          ],
          [
           "male",
           "northwest",
           2
          ],
          [
           "male",
           "northeast",
           0
          ],
          [
           "male",
           "southeast",
           3
          ],
          [
           "male",
           "northwest",
           0
          ],
          [
           "male",
           "southeast",
           0
          ],
          [
           "male",
           "southeast",
           1
          ],
          [
           "female",
           "southeast",
           1
          ],
          [
           "female",
           "southwest",
           3
          ],
          [
           "male",
           "northeast",
           0
          ],
          [
           "male",
           "northwest",
           0
          ],
          [
           "male",
           "northeast",
           3
          ],
          [
           "female",
           "southeast",
           0
          ],
          [
           "female",
           "southeast",
           0
          ],
          [
           "male",
           "southwest",
           0
          ],
          [
           "female",
           "northeast",
           0
          ],
          [
           "female",
           "northwest",
           2
          ],
          [
           "male",
           "southeast",
           2
          ],
          [
           "female",
           "northeast",
           1
          ],
          [
           "female",
           "southwest",
           0
          ],
          [
           "female",
           "southeast",
           1
          ],
          [
           "female",
           "southeast",
           0
          ],
          [
           "male",
           "southwest",
           1
          ],
          [
           "male",
           "southeast",
           0
          ],
          [
           "female",
           "northwest",
           0
          ],
          [
           "female",
           "northwest",
           1
          ],
          [
           "female",
           "northwest",
           0
          ],
          [
           "male",
           "southeast",
           0
          ],
          [
           "male",
           "northeast",
           1
          ],
          [
           "female",
           "southwest",
           3
          ],
          [
           "female",
           "northwest",
           3
          ],
          [
           "male",
           "southeast",
           2
          ],
          [
           "male",
           "northeast",
           2
          ],
          [
           "male",
           "southeast",
           2
          ],
          [
           "female",
           "southeast",
           0
          ],
          [
           "female",
           "northwest",
           0
          ],
          [
           "male",
           "southwest",
           3
          ],
          [
           "male",
           "southwest",
           1
          ],
          [
           "male",
           "northwest",
           0
          ],
          [
           "female",
           "southeast",
           0
          ],
          [
           "female",
           "southeast",
           2
          ],
          [
           "male",
           "northwest",
           0
          ],
          [
           "female",
           "northeast",
           2
          ],
          [
           "male",
           "northwest",
           1
          ],
          [
           "male",
           "southwest",
           0
          ],
          [
           "female",
           "northwest",
           0
          ],
          [
           "female",
           "northwest",
           2
          ],
          [
           "male",
           "northwest",
           0
          ],
          [
           "male",
           "northwest",
           1
          ],
          [
           "male",
           "southeast",
           2
          ],
          [
           "male",
           "southwest",
           0
          ],
          [
           "female",
           "northeast",
           0
          ],
          [
           "female",
           "northeast",
           2
          ],
          [
           "female",
           "northwest",
           0
          ],
          [
           "male",
           "southwest",
           0
          ],
          [
           "male",
           "northeast",
           0
          ],
          [
           "male",
           "northeast",
           0
          ],
          [
           "female",
           "southwest",
           1
          ],
          [
           "male",
           "southeast",
           1
          ],
          [
           "female",
           "southwest",
           0
          ],
          [
           "male",
           "northwest",
           0
          ],
          [
           "male",
           "northwest",
           2
          ],
          [
           "female",
           "northeast",
           2
          ],
          [
           "female",
           "southwest",
           0
          ],
          [
           "female",
           "southeast",
           1
          ],
          [
           "male",
           "southwest",
           0
          ],
          [
           "female",
           "southwest",
           3
          ],
          [
           "female",
           "northwest",
           2
          ],
          [
           "female",
           "northeast",
           0
          ],
          [
           "male",
           "southwest",
           0
          ],
          [
           "male",
           "southwest",
           2
          ],
          [
           "male",
           "southeast",
           0
          ],
          [
           "male",
           "southwest",
           1
          ],
          [
           "male",
           "northeast",
           0
          ],
          [
           "female",
           "southwest",
           3
          ],
          [
           "male",
           "southwest",
           0
          ],
          [
           "female",
           "southeast",
           1
          ],
          [
           "male",
           "southeast",
           0
          ],
          [
           "male",
           "southwest",
           1
          ],
          [
           "male",
           "northeast",
           3
          ],
          [
           "female",
           "northwest",
           0
          ],
          [
           "female",
           "southwest",
           1
          ],
          [
           "male",
           "southeast",
           5
          ],
          [
           "male",
           "southwest",
           1
          ],
          [
           "female",
           "southwest",
           2
          ],
          [
           "male",
           "southwest",
           3
          ],
          [
           "male",
           "northwest",
           1
          ],
          [
           "female",
           "northeast",
           0
          ],
          [
           "male",
           "northwest",
           4
          ],
          [
           "female",
           "northwest",
           0
          ],
          [
           "male",
           "southwest",
           0
          ],
          [
           "male",
           "northwest",
           1
          ],
          [
           "female",
           "southeast",
           4
          ],
          [
           "male",
           "northeast",
           0
          ],
          [
           "male",
           "northeast",
           0
          ],
          [
           "female",
           "southwest",
           0
          ],
          [
           "male",
           "northwest",
           1
          ],
          [
           "female",
           "southeast",
           0
          ],
          [
           "female",
           "northwest",
           0
          ],
          [
           "male",
           "northeast",
           0
          ],
          [
           "male",
           "northeast",
           3
          ],
          [
           "male",
           "southeast",
           0
          ],
          [
           "female",
           "southwest",
           0
          ],
          [
           "female",
           "northeast",
           2
          ],
          [
           "male",
           "northeast",
           3
          ],
          [
           "female",
           "southeast",
           1
          ],
          [
           "male",
           "southwest",
           3
          ],
          [
           "male",
           "northwest",
           1
          ],
          [
           "female",
           "northwest",
           3
          ],
          [
           "female",
           "southwest",
           1
          ],
          [
           "male",
           "northwest",
           2
          ],
          [
           "female",
           "southeast",
           0
          ],
          [
           "female",
           "southwest",
           0
          ],
          [
           "female",
           "southeast",
           1
          ],
          [
           "female",
           "southwest",
           0
          ],
          [
           "female",
           "southwest",
           0
          ],
          [
           "male",
           "southwest",
           1
          ],
          [
           "male",
           "northwest",
           0
          ],
          [
           "male",
           "southwest",
           0
          ],
          [
           "male",
           "northeast",
           2
          ],
          [
           "female",
           "southwest",
           2
          ],
          [
           "female",
           "southwest",
           1
          ],
          [
           "female",
           "southeast",
           0
          ],
          [
           "male",
           "southeast",
           1
          ],
          [
           "male",
           "southeast",
           1
          ],
          [
           "female",
           "southwest",
           1
          ],
          [
           "male",
           "southwest",
           5
          ],
          [
           "female",
           "southwest",
           0
          ],
          [
           "male",
           "southeast",
           2
          ],
          [
           "female",
           "southwest",
           0
          ],
          [
           "male",
           "northeast",
           2
          ],
          [
           "female",
           "northwest",
           5
          ],
          [
           "male",
           "southeast",
           2
          ],
          [
           "male",
           "southeast",
           0
          ],
          [
           "male",
           "southeast",
           0
          ],
          [
           "female",
           "southeast",
           1
          ],
          [
           "female",
           "northeast",
           0
          ],
          [
           "male",
           "northwest",
           0
          ],
          [
           "male",
           "southeast",
           0
          ],
          [
           "female",
           "southwest",
           1
          ],
          [
           "male",
           "southwest",
           2
          ],
          [
           "male",
           "northwest",
           0
          ],
          [
           "male",
           "northeast",
           0
          ],
          [
           "female",
           "northwest",
           1
          ],
          [
           "male",
           "southeast",
           1
          ],
          [
           "male",
           "northwest",
           1
          ],
          [
           "male",
           "northwest",
           1
          ],
          [
           "female",
           "northwest",
           1
          ],
          [
           "female",
           "southwest",
           0
          ],
          [
           "female",
           "southeast",
           1
          ],
          [
           "male",
           "northeast",
           3
          ],
          [
           "male",
           "northwest",
           2
          ],
          [
           "male",
           "southwest",
           1
          ],
          [
           "male",
           "northwest",
           1
          ],
          [
           "male",
           "northeast",
           2
          ],
          [
           "female",
           "southeast",
           5
          ],
          [
           "female",
           "southeast",
           3
          ],
          [
           "female",
           "northeast",
           0
          ],
          [
           "female",
           "northwest",
           0
          ],
          [
           "female",
           "southwest",
           0
          ],
          [
           "male",
           "southeast",
           0
          ],
          [
           "male",
           "southeast",
           0
          ],
          [
           "male",
           "southeast",
           1
          ],
          [
           "female",
           "northeast",
           3
          ],
          [
           "female",
           "southeast",
           0
          ],
          [
           "male",
           "northeast",
           1
          ],
          [
           "male",
           "northeast",
           0
          ],
          [
           "female",
           "northeast",
           1
          ],
          [
           "male",
           "northeast",
           5
          ],
          [
           "female",
           "southwest",
           1
          ],
          [
           "male",
           "northwest",
           3
          ],
          [
           "female",
           "northwest",
           1
          ],
          [
           "male",
           "northeast",
           0
          ],
          [
           "female",
           "southwest",
           1
          ],
          [
           "female",
           "northeast",
           2
          ],
          [
           "female",
           "southwest",
           2
          ],
          [
           "male",
           "southeast",
           1
          ],
          [
           "female",
           "northeast",
           3
          ],
          [
           "female",
           "southwest",
           3
          ],
          [
           "female",
           "southeast",
           0
          ],
          [
           "female",
           "northeast",
           3
          ],
          [
           "female",
           "northwest",
           0
          ],
          [
           "male",
           "southwest",
           0
          ],
          [
           "male",
           "southwest",
           0
          ],
          [
           "male",
           "northeast",
           1
          ],
          [
           "male",
           "northwest",
           2
          ],
          [
           "male",
           "northeast",
           2
          ],
          [
           "male",
           "northeast",
           2
          ],
          [
           "male",
           "northeast",
           1
          ],
          [
           "female",
           "southwest",
           0
          ],
          [
           "female",
           "southeast",
           4
          ],
          [
           "male",
           "northwest",
           1
          ],
          [
           "female",
           "southwest",
           0
          ],
          [
           "male",
           "northwest",
           0
          ],
          [
           "female",
           "northwest",
           1
          ],
          [
           "female",
           "southwest",
           2
          ],
          [
           "female",
           "northwest",
           3
          ],
          [
           "female",
           "northwest",
           2
          ],
          [
           "male",
           "southwest",
           0
          ],
          [
           "male",
           "southeast",
           1
          ],
          [
           "female",
           "southeast",
           1
          ],
          [
           "female",
           "southwest",
           0
          ],
          [
           "male",
           "northwest",
           0
          ],
          [
           "male",
           "southwest",
           0
          ],
          [
           "female",
           "northeast",
           2
          ],
          [
           "female",
           "northeast",
           0
          ],
          [
           "male",
           "northwest",
           0
          ],
          [
           "female",
           "southwest",
           3
          ],
          [
           "male",
           "northeast",
           0
          ],
          [
           "male",
           "northwest",
           2
          ],
          [
           "male",
           "northeast",
           0
          ],
          [
           "female",
           "southwest",
           0
          ],
          [
           "male",
           "northeast",
           1
          ],
          [
           "female",
           "northeast",
           0
          ],
          [
           "female",
           "northwest",
           1
          ],
          [
           "female",
           "northwest",
           1
          ],
          [
           "male",
           "northeast",
           0
          ],
          [
           "male",
           "northeast",
           1
          ],
          [
           "female",
           "northwest",
           0
          ],
          [
           "male",
           "northwest",
           0
          ],
          [
           "female",
           "southwest",
           0
          ],
          [
           "female",
           "southeast",
           0
          ],
          [
           "female",
           "southeast",
           0
          ],
          [
           "male",
           "northwest",
           1
          ],
          [
           "male",
           "southeast",
           0
          ],
          [
           "male",
           "southeast",
           1
          ],
          [
           "male",
           "northwest",
           3
          ],
          [
           "female",
           "southwest",
           4
          ],
          [
           "female",
           "southwest",
           1
          ],
          [
           "male",
           "southeast",
           2
          ],
          [
           "male",
           "northeast",
           0
          ],
          [
           "male",
           "northwest",
           1
          ],
          [
           "female",
           "southeast",
           1
          ],
          [
           "male",
           "northeast",
           0
          ],
          [
           "male",
           "northwest",
           0
          ],
          [
           "female",
           "northeast",
           2
          ],
          [
           "female",
           "northeast",
           0
          ],
          [
           "female",
           "southeast",
           1
          ],
          [
           "female",
           "southwest",
           1
          ],
          [
           "male",
           "northeast",
           0
          ],
          [
           "male",
           "southeast",
           3
          ],
          [
           "male",
           "southeast",
           2
          ],
          [
           "male",
           "northwest",
           1
          ],
          [
           "male",
           "northwest",
           1
          ],
          [
           "male",
           "southwest",
           1
          ],
          [
           "female",
           "northwest",
           2
          ],
          [
           "male",
           "northeast",
           0
          ],
          [
           "male",
           "northwest",
           0
          ],
          [
           "male",
           "southeast",
           1
          ],
          [
           "male",
           "southwest",
           0
          ],
          [
           "female",
           "northeast",
           0
          ],
          [
           "male",
           "southwest",
           3
          ],
          [
           "female",
           "southwest",
           4
          ],
          [
           "female",
           "northeast",
           4
          ],
          [
           "male",
           "southeast",
           0
          ],
          [
           "female",
           "northeast",
           0
          ],
          [
           "female",
           "southeast",
           1
          ],
          [
           "male",
           "southwest",
           3
          ],
          [
           "male",
           "southeast",
           1
          ],
          [
           "male",
           "southeast",
           0
          ],
          [
           "male",
           "southwest",
           0
          ],
          [
           "female",
           "southeast",
           0
          ],
          [
           "female",
           "northwest",
           0
          ],
          [
           "female",
           "northwest",
           2
          ],
          [
           "male",
           "southwest",
           1
          ],
          [
           "male",
           "southeast",
           3
          ],
          [
           "female",
           "northeast",
           1
          ],
          [
           "female",
           "northwest",
           3
          ],
          [
           "male",
           "northeast",
           0
          ],
          [
           "male",
           "southeast",
           1
          ],
          [
           "male",
           "northeast",
           5
          ],
          [
           "female",
           "northwest",
           3
          ],
          [
           "male",
           "southeast",
           2
          ],
          [
           "female",
           "northeast",
           1
          ],
          [
           "female",
           "northwest",
           0
          ],
          [
           "male",
           "southwest",
           0
          ],
          [
           "female",
           "southeast",
           2
          ],
          [
           "male",
           "southwest",
           1
          ],
          [
           "female",
           "southwest",
           0
          ],
          [
           "female",
           "southeast",
           5
          ],
          [
           "male",
           "southwest",
           2
          ],
          [
           "male",
           "northeast",
           0
          ],
          [
           "female",
           "northwest",
           0
          ],
          [
           "male",
           "northwest",
           0
          ],
          [
           "female",
           "northwest",
           3
          ],
          [
           "female",
           "southwest",
           1
          ],
          [
           "female",
           "northwest",
           0
          ],
          [
           "male",
           "southeast",
           0
          ],
          [
           "male",
           "southeast",
           1
          ],
          [
           "female",
           "southwest",
           3
          ],
          [
           "female",
           "southeast",
           0
          ],
          [
           "male",
           "southeast",
           2
          ],
          [
           "male",
           "southwest",
           2
          ],
          [
           "male",
           "northwest",
           3
          ],
          [
           "female",
           "northwest",
           0
          ],
          [
           "male",
           "southwest",
           1
          ],
          [
           "male",
           "southwest",
           0
          ],
          [
           "female",
           "northeast",
           0
          ],
          [
           "female",
           "northwest",
           0
          ],
          [
           "female",
           "northwest",
           1
          ],
          [
           "female",
           "northwest",
           4
          ],
          [
           "female",
           "northeast",
           3
          ],
          [
           "female",
           "northwest",
           2
          ],
          [
           "female",
           "northeast",
           0
          ],
          [
           "female",
           "southwest",
           0
          ],
          [
           "female",
           "northwest",
           1
          ],
          [
           "male",
           "southeast",
           2
          ],
          [
           "male",
           "southeast",
           1
          ],
          [
           "female",
           "northeast",
           0
          ],
          [
           "female",
           "northwest",
           1
          ],
          [
           "female",
           "northeast",
           0
          ],
          [
           "male",
           "southeast",
           0
          ],
          [
           "female",
           "southwest",
           2
          ],
          [
           "male",
           "southwest",
           2
          ],
          [
           "female",
           "northwest",
           1
          ],
          [
           "female",
           "southeast",
           0
          ],
          [
           "male",
           "northwest",
           2
          ],
          [
           "male",
           "northwest",
           2
          ],
          [
           "female",
           "southwest",
           0
          ],
          [
           "female",
           "southwest",
           1
          ],
          [
           "female",
           "northeast",
           0
          ],
          [
           "female",
           "northeast",
           1
          ],
          [
           "female",
           "northwest",
           0
          ],
          [
           "female",
           "southwest",
           0
          ],
          [
           "female",
           "northeast",
           1
          ],
          [
           "male",
           "northeast",
           2
          ],
          [
           "female",
           "northwest",
           0
          ],
          [
           "female",
           "southwest",
           0
          ],
          [
           "female",
           "northwest",
           2
          ],
          [
           "female",
           "northeast",
           1
          ],
          [
           "female",
           "northeast",
           1
          ],
          [
           "female",
           "northwest",
           0
          ],
          [
           "female",
           "northwest",
           0
          ],
          [
           "female",
           "northwest",
           3
          ],
          [
           "male",
           "southeast",
           0
          ],
          [
           "male",
           "northwest",
           1
          ],
          [
           "female",
           "southwest",
           2
          ],
          [
           "male",
           "northwest",
           2
          ],
          [
           "male",
           "northwest",
           2
          ],
          [
           "male",
           "northwest",
           0
          ],
          [
           "male",
           "northeast",
           1
          ],
          [
           "male",
           "northwest",
           1
          ],
          [
           "female",
           "southwest",
           2
          ],
          [
           "male",
           "southwest",
           1
          ],
          [
           "male",
           "northwest",
           1
          ],
          [
           "male",
           "southeast",
           2
          ],
          [
           "male",
           "northeast",
           0
          ],
          [
           "female",
           "southwest",
           2
          ],
          [
           "female",
           "northwest",
           1
          ],
          [
           "male",
           "northeast",
           0
          ],
          [
           "male",
           "southeast",
           0
          ],
          [
           "male",
           "southeast",
           2
          ],
          [
           "female",
           "northwest",
           3
          ],
          [
           "female",
           "northeast",
           1
          ],
          [
           "male",
           "southeast",
           2
          ],
          [
           "male",
           "southeast",
           0
          ],
          [
           "male",
           "northeast",
           1
          ],
          [
           "female",
           "southeast",
           1
          ],
          [
           "male",
           "northeast",
           2
          ],
          [
           "male",
           "southeast",
           2
          ],
          [
           "male",
           "southeast",
           0
          ],
          [
           "male",
           "northeast",
           0
          ],
          [
           "female",
           "northwest",
           3
          ],
          [
           "male",
           "southwest",
           0
          ],
          [
           "female",
           "southeast",
           2
          ],
          [
           "male",
           "northwest",
           0
          ],
          [
           "female",
           "northeast",
           0
          ],
          [
           "female",
           "northwest",
           0
          ],
          [
           "male",
           "northeast",
           3
          ],
          [
           "female",
           "southeast",
           1
          ],
          [
           "female",
           "northwest",
           3
          ],
          [
           "female",
           "southeast",
           0
          ],
          [
           "male",
           "southeast",
           0
          ],
          [
           "male",
           "southwest",
           5
          ],
          [
           "female",
           "southwest",
           3
          ],
          [
           "male",
           "southwest",
           4
          ],
          [
           "female",
           "southeast",
           0
          ],
          [
           "male",
           "southwest",
           0
          ],
          [
           "female",
           "southwest",
           4
          ],
          [
           "female",
           "southeast",
           0
          ],
          [
           "female",
           "southwest",
           0
          ],
          [
           "female",
           "northwest",
           3
          ],
          [
           "female",
           "northwest",
           1
          ],
          [
           "male",
           "northwest",
           3
          ],
          [
           "female",
           "northeast",
           0
          ],
          [
           "female",
           "northeast",
           0
          ],
          [
           "male",
           "southwest",
           1
          ],
          [
           "female",
           "southeast",
           1
          ],
          [
           "female",
           "southwest",
           1
          ],
          [
           "female",
           "northeast",
           2
          ],
          [
           "female",
           "southwest",
           0
          ],
          [
           "female",
           "southwest",
           0
          ],
          [
           "male",
           "southwest",
           3
          ],
          [
           "male",
           "northwest",
           1
          ],
          [
           "female",
           "northwest",
           0
          ],
          [
           "male",
           "southeast",
           5
          ],
          [
           "male",
           "southeast",
           1
          ],
          [
           "male",
           "southwest",
           0
          ],
          [
           "female",
           "northeast",
           0
          ],
          [
           "female",
           "northwest",
           0
          ],
          [
           "female",
           "northwest",
           2
          ],
          [
           "female",
           "southeast",
           0
          ],
          [
           "male",
           "southeast",
           1
          ],
          [
           "female",
           "northeast",
           0
          ],
          [
           "female",
           "northeast",
           0
          ],
          [
           "female",
           "southwest",
           1
          ],
          [
           "male",
           "southeast",
           1
          ],
          [
           "female",
           "northeast",
           2
          ],
          [
           "male",
           "southeast",
           0
          ],
          [
           "male",
           "northwest",
           3
          ],
          [
           "male",
           "northeast",
           0
          ],
          [
           "male",
           "southwest",
           1
          ],
          [
           "male",
           "northeast",
           0
          ],
          [
           "female",
           "southeast",
           2
          ],
          [
           "male",
           "northwest",
           2
          ],
          [
           "female",
           "northwest",
           1
          ],
          [
           "female",
           "southwest",
           1
          ],
          [
           "female",
           "southeast",
           0
          ],
          [
           "male",
           "southwest",
           2
          ],
          [
           "male",
           "northwest",
           1
          ],
          [
           "female",
           "northwest",
           0
          ],
          [
           "male",
           "southwest",
           1
          ],
          [
           "male",
           "northeast",
           1
          ],
          [
           "female",
           "southwest",
           0
          ],
          [
           "male",
           "southeast",
           0
          ],
          [
           "male",
           "northeast",
           4
          ],
          [
           "female",
           "northwest",
           2
          ],
          [
           "male",
           "northwest",
           3
          ],
          [
           "male",
           "southeast",
           0
          ],
          [
           "male",
           "northwest",
           1
          ],
          [
           "male",
           "northeast",
           0
          ],
          [
           "female",
           "northeast",
           0
          ],
          [
           "male",
           "southeast",
           1
          ],
          [
           "female",
           "northeast",
           2
          ],
          [
           "male",
           "southwest",
           2
          ],
          [
           "female",
           "southeast",
           2
          ],
          [
           "female",
           "southwest",
           0
          ],
          [
           "female",
           "southwest",
           3
          ],
          [
           "male",
           "northwest",
           3
          ],
          [
           "female",
           "northeast",
           0
          ],
          [
           "female",
           "southeast",
           0
          ],
          [
           "female",
           "southwest",
           0
          ]
         ],
         "hovertemplate": "smoker=no<br>age=%{x}<br>charges=%{y}<br>bmi=%{marker.size}<br>sex=%{customdata[0]}<br>region=%{customdata[1]}<br>children=%{customdata[2]}<extra></extra>",
         "legendgroup": "no",
         "marker": {
          "color": "#EF553B",
          "size": {
           "bdata": "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",
           "dtype": "f8"
          },
          "sizemode": "area",
          "sizeref": 0.132825,
          "symbol": "circle"
         },
         "mode": "markers",
         "name": "no",
         "showlegend": true,
         "type": "scattergl",
         "x": {
          "bdata": "EhwhIB8uJSU8GRc4EzQXODweEiU7PzcXEhM/Ez4aGB8pJSY3Ehw8EhUoOiIrGUAcEz0oKB81Oiw5HRUWKR8tMDguNxU1Ixw2NykeEiITGh02NyUVNDw6MSUsEhQvGjQmOz01ExQWExY2FiIaHR0zNRMjMCAoLDI2ICUvFCATGz8xEiMYJjYuKToSFiwsGh4pHT0kGTgSEyctM0ATMDwuHDs/KBQoGCItKTUbGhgiNSA3HDopLyo7EzsnEh8sITcoNjwYEx0bNyYzOjU7LTESKTIZLxMWOzMeNzQuLj80HB0WGRIwJDgcOR0cHjopMhMxNDI2LCAiGjkdKBs0PTgrQDw+Lhg+PD8xIiEuJBM5Mh4hEi4uLxcSMCMVFTE4KiwSPTkqFEA+NyMsEzoyGhgwEzAxLi4rFUASMy9AMR80IS8mIBMZEys0QBkwLSYSFRsTHSo8HzwWIzQaHxI7LTw4KCMnHhgUIDs3OTgoMT44Ezw4HBIbEhMvGRUXPzESMzAfNhM1Ez0SPRQfLSw+KyYlFhUYOTgbMxM6FC0jHzIgMyYSEzMuEj47JUAmIS4uNSIUPzYcNhk/ID40GRwuIhMuNhsyEhMmKTEfEh4+OToWNBk7EycgEyEVPSY6LxQpLioiKzQSMzhAMxscLyYSIhQ4Nx4xOx0kITo1GB0oM0ATIzghPRcrMCcoEjoxNTAtOxobMDklOSASMSgeHSQpLTc4MRUTNSE1KigvFS8UGBsaNTgXFTI1Ii8hMR8kEjIrFBg8MTwzOjM1PhMyKRIpNRgwOzEaLR8yMiITLxwVQDoYHyceFhcbLTkvKkAmPTUsKTMoLSM1EjMfIzwVHT4nExYnHh46KkAVFy0oExIZLiE2HCQUGBctGhIsPEAnPyQcOiQqJDgjOxU7NTMXGzc9NRQZOSY3JDMoEjk9GTIaKissFzEhKSUWFxUZJBY5JDY+PRMSEzEaMTwaGyw/FjssIRg9Iz4+JiIrMhM5PikaJy4tIDssJxI1EjISEz44Kio5Hh8YMBMdPy40IywVJzIiFhMaMBotJDYiGxQsKy0iGiYyJicnPyEkGDAvHRwZMzA9MCY7Exo2FTMSLxUXNiUePTYWExIcNysZLEAxGzcwLRggGDkkHSowJz82PxU2PCAvFT8SICYgPjc5NDg3FzISFjQZNR06JTYxMhotNhwXNykeLhs/NyMiEycbOTQcMiwaITIpNCcyNBQ3KhI6IzAkFxQgKyIeEikjOR0gJTgmHRYoFyoYGTAtPhcfKTowHxMpKB8lLhYzIzs7JCcSNBsSKB0mHigyKSEmKjg6NjotGj86JRkWHBIcLSESEygiKjM2NzQgHCkrMTcULRoZKyM5FiAZMBIvHCQsJhUuOhQSHCETGRgpKiEiEhMSIycfPh89KjMXNDkXNDISEhU=",
          "dtype": "i1"
         },
         "xaxis": "x",
         "y": {
          "bdata": "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",
          "dtype": "f8"
         },
         "yaxis": "y"
        }
       ],
       "layout": {
        "legend": {
         "itemsizing": "constant",
         "title": {
          "text": "smoker"
         },
         "tracegroupgap": 0
        },
        "template": {
         "data": {
          "bar": [
           {
            "error_x": {
             "color": "#2a3f5f"
            },
            "error_y": {
             "color": "#2a3f5f"
            },
            "marker": {
             "line": {
              "color": "#E5ECF6",
              "width": 0.5
             },
             "pattern": {
              "fillmode": "overlay",
              "size": 10,
              "solidity": 0.2
             }
            },
            "type": "bar"
           }
          ],
          "barpolar": [
           {
            "marker": {
             "line": {
              "color": "#E5ECF6",
              "width": 0.5
             },
             "pattern": {
              "fillmode": "overlay",
              "size": 10,
              "solidity": 0.2
             }
            },
            "type": "barpolar"
           }
          ],
          "carpet": [
           {
            "aaxis": {
             "endlinecolor": "#2a3f5f",
             "gridcolor": "white",
             "linecolor": "white",
             "minorgridcolor": "white",
             "startlinecolor": "#2a3f5f"
            },
            "baxis": {
             "endlinecolor": "#2a3f5f",
             "gridcolor": "white",
             "linecolor": "white",
             "minorgridcolor": "white",
             "startlinecolor": "#2a3f5f"
            },
            "type": "carpet"
           }
          ],
          "choropleth": [
           {
            "colorbar": {
             "outlinewidth": 0,
             "ticks": ""
            },
            "type": "choropleth"
           }
          ],
          "contour": [
           {
            "colorbar": {
             "outlinewidth": 0,
             "ticks": ""
            },
            "colorscale": [
             [
              0,
              "#0d0887"
             ],
             [
              0.1111111111111111,
              "#46039f"
             ],
             [
              0.2222222222222222,
              "#7201a8"
             ],
             [
              0.3333333333333333,
              "#9c179e"
             ],
             [
              0.4444444444444444,
              "#bd3786"
             ],
             [
              0.5555555555555556,
              "#d8576b"
             ],
             [
              0.6666666666666666,
              "#ed7953"
             ],
             [
              0.7777777777777778,
              "#fb9f3a"
             ],
             [
              0.8888888888888888,
              "#fdca26"
             ],
             [
              1,
              "#f0f921"
             ]
            ],
            "type": "contour"
           }
          ],
          "contourcarpet": [
           {
            "colorbar": {
             "outlinewidth": 0,
             "ticks": ""
            },
            "type": "contourcarpet"
           }
          ],
          "heatmap": [
           {
            "colorbar": {
             "outlinewidth": 0,
             "ticks": ""
            },
            "colorscale": [
             [
              0,
              "#0d0887"
             ],
             [
              0.1111111111111111,
              "#46039f"
             ],
             [
              0.2222222222222222,
              "#7201a8"
             ],
             [
              0.3333333333333333,
              "#9c179e"
             ],
             [
              0.4444444444444444,
              "#bd3786"
             ],
             [
              0.5555555555555556,
              "#d8576b"
             ],
             [
              0.6666666666666666,
              "#ed7953"
             ],
             [
              0.7777777777777778,
              "#fb9f3a"
             ],
             [
              0.8888888888888888,
              "#fdca26"
             ],
             [
              1,
              "#f0f921"
             ]
            ],
            "type": "heatmap"
           }
          ],
          "histogram": [
           {
            "marker": {
             "pattern": {
              "fillmode": "overlay",
              "size": 10,
              "solidity": 0.2
             }
            },
            "type": "histogram"
           }
          ],
          "histogram2d": [
           {
            "colorbar": {
             "outlinewidth": 0,
             "ticks": ""
            },
            "colorscale": [
             [
              0,
              "#0d0887"
             ],
             [
              0.1111111111111111,
              "#46039f"
             ],
             [
              0.2222222222222222,
              "#7201a8"
             ],
             [
              0.3333333333333333,
              "#9c179e"
             ],
             [
              0.4444444444444444,
              "#bd3786"
             ],
             [
              0.5555555555555556,
              "#d8576b"
             ],
             [
              0.6666666666666666,
              "#ed7953"
             ],
             [
              0.7777777777777778,
              "#fb9f3a"
             ],
             [
              0.8888888888888888,
              "#fdca26"
             ],
             [
              1,
              "#f0f921"
             ]
            ],
            "type": "histogram2d"
           }
          ],
          "histogram2dcontour": [
           {
            "colorbar": {
             "outlinewidth": 0,
             "ticks": ""
            },
            "colorscale": [
             [
              0,
              "#0d0887"
             ],
             [
              0.1111111111111111,
              "#46039f"
             ],
             [
              0.2222222222222222,
              "#7201a8"
             ],
             [
              0.3333333333333333,
              "#9c179e"
             ],
             [
              0.4444444444444444,
              "#bd3786"
             ],
             [
              0.5555555555555556,
              "#d8576b"
             ],
             [
              0.6666666666666666,
              "#ed7953"
             ],
             [
              0.7777777777777778,
              "#fb9f3a"
             ],
             [
              0.8888888888888888,
              "#fdca26"
             ],
             [
              1,
              "#f0f921"
             ]
            ],
            "type": "histogram2dcontour"
           }
          ],
          "mesh3d": [
           {
            "colorbar": {
             "outlinewidth": 0,
             "ticks": ""
            },
            "type": "mesh3d"
           }
          ],
          "parcoords": [
           {
            "line": {
             "colorbar": {
              "outlinewidth": 0,
              "ticks": ""
             }
            },
            "type": "parcoords"
           }
          ],
          "pie": [
           {
            "automargin": true,
            "type": "pie"
           }
          ],
          "scatter": [
           {
            "fillpattern": {
             "fillmode": "overlay",
             "size": 10,
             "solidity": 0.2
            },
            "type": "scatter"
           }
          ],
          "scatter3d": [
           {
            "line": {
             "colorbar": {
              "outlinewidth": 0,
              "ticks": ""
             }
            },
            "marker": {
             "colorbar": {
              "outlinewidth": 0,
              "ticks": ""
             }
            },
            "type": "scatter3d"
           }
          ],
          "scattercarpet": [
           {
            "marker": {
             "colorbar": {
              "outlinewidth": 0,
              "ticks": ""
             }
            },
            "type": "scattercarpet"
           }
          ],
          "scattergeo": [
           {
            "marker": {
             "colorbar": {
              "outlinewidth": 0,
              "ticks": ""
             }
            },
            "type": "scattergeo"
           }
          ],
          "scattergl": [
           {
            "marker": {
             "colorbar": {
              "outlinewidth": 0,
              "ticks": ""
             }
            },
            "type": "scattergl"
           }
          ],
          "scattermap": [
           {
            "marker": {
             "colorbar": {
              "outlinewidth": 0,
              "ticks": ""
             }
            },
            "type": "scattermap"
           }
          ],
          "scattermapbox": [
           {
            "marker": {
             "colorbar": {
              "outlinewidth": 0,
              "ticks": ""
             }
            },
            "type": "scattermapbox"
           }
          ],
          "scatterpolar": [
           {
            "marker": {
             "colorbar": {
              "outlinewidth": 0,
              "ticks": ""
             }
            },
            "type": "scatterpolar"
           }
          ],
          "scatterpolargl": [
           {
            "marker": {
             "colorbar": {
              "outlinewidth": 0,
              "ticks": ""
             }
            },
            "type": "scatterpolargl"
           }
          ],
          "scatterternary": [
           {
            "marker": {
             "colorbar": {
              "outlinewidth": 0,
              "ticks": ""
             }
            },
            "type": "scatterternary"
           }
          ],
          "surface": [
           {
            "colorbar": {
             "outlinewidth": 0,
             "ticks": ""
            },
            "colorscale": [
             [
              0,
              "#0d0887"
             ],
             [
              0.1111111111111111,
              "#46039f"
             ],
             [
              0.2222222222222222,
              "#7201a8"
             ],
             [
              0.3333333333333333,
              "#9c179e"
             ],
             [
              0.4444444444444444,
              "#bd3786"
             ],
             [
              0.5555555555555556,
              "#d8576b"
             ],
             [
              0.6666666666666666,
              "#ed7953"
             ],
             [
              0.7777777777777778,
              "#fb9f3a"
             ],
             [
              0.8888888888888888,
              "#fdca26"
             ],
             [
              1,
              "#f0f921"
             ]
            ],
            "type": "surface"
           }
          ],
          "table": [
           {
            "cells": {
             "fill": {
              "color": "#EBF0F8"
             },
             "line": {
              "color": "white"
             }
            },
            "header": {
             "fill": {
              "color": "#C8D4E3"
             },
             "line": {
              "color": "white"
             }
            },
            "type": "table"
           }
          ]
         },
         "layout": {
          "annotationdefaults": {
           "arrowcolor": "#2a3f5f",
           "arrowhead": 0,
           "arrowwidth": 1
          },
          "autotypenumbers": "strict",
          "coloraxis": {
           "colorbar": {
            "outlinewidth": 0,
            "ticks": ""
           }
          },
          "colorscale": {
           "diverging": [
            [
             0,
             "#8e0152"
            ],
            [
             0.1,
             "#c51b7d"
            ],
            [
             0.2,
             "#de77ae"
            ],
            [
             0.3,
             "#f1b6da"
            ],
            [
             0.4,
             "#fde0ef"
            ],
            [
             0.5,
             "#f7f7f7"
            ],
            [
             0.6,
             "#e6f5d0"
            ],
            [
             0.7,
             "#b8e186"
            ],
            [
             0.8,
             "#7fbc41"
            ],
            [
             0.9,
             "#4d9221"
            ],
            [
             1,
             "#276419"
            ]
           ],
           "sequential": [
            [
             0,
             "#0d0887"
            ],
            [
             0.1111111111111111,
             "#46039f"
            ],
            [
             0.2222222222222222,
             "#7201a8"
            ],
            [
             0.3333333333333333,
             "#9c179e"
            ],
            [
             0.4444444444444444,
             "#bd3786"
            ],
            [
             0.5555555555555556,
             "#d8576b"
            ],
            [
             0.6666666666666666,
             "#ed7953"
            ],
            [
             0.7777777777777778,
             "#fb9f3a"
            ],
            [
             0.8888888888888888,
             "#fdca26"
            ],
            [
             1,
             "#f0f921"
            ]
           ],
           "sequentialminus": [
            [
             0,
             "#0d0887"
            ],
            [
             0.1111111111111111,
             "#46039f"
            ],
            [
             0.2222222222222222,
             "#7201a8"
            ],
            [
             0.3333333333333333,
             "#9c179e"
            ],
            [
             0.4444444444444444,
             "#bd3786"
            ],
            [
             0.5555555555555556,
             "#d8576b"
            ],
            [
             0.6666666666666666,
             "#ed7953"
            ],
            [
             0.7777777777777778,
             "#fb9f3a"
            ],
            [
             0.8888888888888888,
             "#fdca26"
            ],
            [
             1,
             "#f0f921"
            ]
           ]
          },
          "colorway": [
           "#636efa",
           "#EF553B",
           "#00cc96",
           "#ab63fa",
           "#FFA15A",
           "#19d3f3",
           "#FF6692",
           "#B6E880",
           "#FF97FF",
           "#FECB52"
          ],
          "font": {
           "color": "#2a3f5f"
          },
          "geo": {
           "bgcolor": "white",
           "lakecolor": "white",
           "landcolor": "#E5ECF6",
           "showlakes": true,
           "showland": true,
           "subunitcolor": "white"
          },
          "hoverlabel": {
           "align": "left"
          },
          "hovermode": "closest",
          "mapbox": {
           "style": "light"
          },
          "paper_bgcolor": "white",
          "plot_bgcolor": "#E5ECF6",
          "polar": {
           "angularaxis": {
            "gridcolor": "white",
            "linecolor": "white",
            "ticks": ""
           },
           "bgcolor": "#E5ECF6",
           "radialaxis": {
            "gridcolor": "white",
            "linecolor": "white",
            "ticks": ""
           }
          },
          "scene": {
           "xaxis": {
            "backgroundcolor": "#E5ECF6",
            "gridcolor": "white",
            "gridwidth": 2,
            "linecolor": "white",
            "showbackground": true,
            "ticks": "",
            "zerolinecolor": "white"
           },
           "yaxis": {
            "backgroundcolor": "#E5ECF6",
            "gridcolor": "white",
            "gridwidth": 2,
            "linecolor": "white",
            "showbackground": true,
            "ticks": "",
            "zerolinecolor": "white"
           },
           "zaxis": {
            "backgroundcolor": "#E5ECF6",
            "gridcolor": "white",
            "gridwidth": 2,
            "linecolor": "white",
            "showbackground": true,
            "ticks": "",
            "zerolinecolor": "white"
           }
          },
          "shapedefaults": {
           "line": {
            "color": "#2a3f5f"
           }
          },
          "ternary": {
           "aaxis": {
            "gridcolor": "white",
            "linecolor": "white",
            "ticks": ""
           },
           "baxis": {
            "gridcolor": "white",
            "linecolor": "white",
            "ticks": ""
           },
           "bgcolor": "#E5ECF6",
           "caxis": {
            "gridcolor": "white",
            "linecolor": "white",
            "ticks": ""
           }
          },
          "title": {
           "x": 0.05
          },
          "xaxis": {
           "automargin": true,
           "gridcolor": "white",
           "linecolor": "white",
           "ticks": "",
           "title": {
            "standoff": 15
           },
           "zerolinecolor": "white",
           "zerolinewidth": 2
          },
          "yaxis": {
           "automargin": true,
           "gridcolor": "white",
           "linecolor": "white",
           "ticks": "",
           "title": {
            "standoff": 15
           },
           "zerolinecolor": "white",
           "zerolinewidth": 2
          }
         }
        },
        "title": {
         "text": "Custos Médicos por Idade (colorido por fumante)"
        },
        "xaxis": {
         "anchor": "y",
         "domain": [
          0,
          1
         ],
         "title": {
          "text": "age"
         }
        },
        "yaxis": {
         "anchor": "x",
         "domain": [
          0,
          1
         ],
         "title": {
          "text": "charges"
         }
        }
       }
      }
     },
     "metadata": {},
     "output_type": "display_data"
    }
   ],
   "source": [
    "# Relação entre Idade e Custo médico\n",
    "fig = px.scatter(dados, x=\"age\", y=\"charges\", \n",
    "                 color=\"smoker\", size=\"bmi\", \n",
    "                 hover_data=[\"sex\", \"region\", \"children\"],\n",
    "                 title=\"Custos Médicos por Idade (colorido por fumante)\")\n",
    "fig.show()\n"
   ]
  },
  {
   "cell_type": "code",
   "execution_count": 27,
   "id": "48d77b7c",
   "metadata": {},
   "outputs": [
    {
     "data": {
      "application/vnd.plotly.v1+json": {
       "config": {
        "plotlyServerURL": "https://plot.ly"
       },
       "data": [
        {
         "hovertemplate": "bmi=%{x}<br>charges=%{y}<extra></extra>",
         "legendgroup": "",
         "marker": {
          "color": "#636efa",
          "symbol": "circle"
         },
         "mode": "markers",
         "name": "",
         "showlegend": false,
         "type": "scattergl",
         "x": {
          "bdata": "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",
          "dtype": "f8"
         },
         "xaxis": "x",
         "y": {
          "bdata": "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",
          "dtype": "f8"
         },
         "yaxis": "y"
        },
        {
         "hovertemplate": "<b>OLS trendline</b><br>charges = 393.873 * bmi + 1192.94<br>R<sup>2</sup>=0.039339<br><br>bmi=%{x}<br>charges=%{y} <b>(trend)</b><extra></extra>",
         "legendgroup": "",
         "marker": {
          "color": "#636efa",
          "symbol": "circle"
         },
         "mode": "lines",
         "name": "",
         "showlegend": false,
         "type": "scattergl",
         "x": {
          "bdata": "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",
          "dtype": "f8"
         },
         "xaxis": "x",
         "y": {
          "bdata": "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",
          "dtype": "f8"
         },
         "yaxis": "y"
        }
       ],
       "layout": {
        "legend": {
         "tracegroupgap": 0
        },
        "template": {
         "data": {
          "bar": [
           {
            "error_x": {
             "color": "#2a3f5f"
            },
            "error_y": {
             "color": "#2a3f5f"
            },
            "marker": {
             "line": {
              "color": "#E5ECF6",
              "width": 0.5
             },
             "pattern": {
              "fillmode": "overlay",
              "size": 10,
              "solidity": 0.2
             }
            },
            "type": "bar"
           }
          ],
          "barpolar": [
           {
            "marker": {
             "line": {
              "color": "#E5ECF6",
              "width": 0.5
             },
             "pattern": {
              "fillmode": "overlay",
              "size": 10,
              "solidity": 0.2
             }
            },
            "type": "barpolar"
           }
          ],
          "carpet": [
           {
            "aaxis": {
             "endlinecolor": "#2a3f5f",
             "gridcolor": "white",
             "linecolor": "white",
             "minorgridcolor": "white",
             "startlinecolor": "#2a3f5f"
            },
            "baxis": {
             "endlinecolor": "#2a3f5f",
             "gridcolor": "white",
             "linecolor": "white",
             "minorgridcolor": "white",
             "startlinecolor": "#2a3f5f"
            },
            "type": "carpet"
           }
          ],
          "choropleth": [
           {
            "colorbar": {
             "outlinewidth": 0,
             "ticks": ""
            },
            "type": "choropleth"
           }
          ],
          "contour": [
           {
            "colorbar": {
             "outlinewidth": 0,
             "ticks": ""
            },
            "colorscale": [
             [
              0,
              "#0d0887"
             ],
             [
              0.1111111111111111,
              "#46039f"
             ],
             [
              0.2222222222222222,
              "#7201a8"
             ],
             [
              0.3333333333333333,
              "#9c179e"
             ],
             [
              0.4444444444444444,
              "#bd3786"
             ],
             [
              0.5555555555555556,
              "#d8576b"
             ],
             [
              0.6666666666666666,
              "#ed7953"
             ],
             [
              0.7777777777777778,
              "#fb9f3a"
             ],
             [
              0.8888888888888888,
              "#fdca26"
             ],
             [
              1,
              "#f0f921"
             ]
            ],
            "type": "contour"
           }
          ],
          "contourcarpet": [
           {
            "colorbar": {
             "outlinewidth": 0,
             "ticks": ""
            },
            "type": "contourcarpet"
           }
          ],
          "heatmap": [
           {
            "colorbar": {
             "outlinewidth": 0,
             "ticks": ""
            },
            "colorscale": [
             [
              0,
              "#0d0887"
             ],
             [
              0.1111111111111111,
              "#46039f"
             ],
             [
              0.2222222222222222,
              "#7201a8"
             ],
             [
              0.3333333333333333,
              "#9c179e"
             ],
             [
              0.4444444444444444,
              "#bd3786"
             ],
             [
              0.5555555555555556,
              "#d8576b"
             ],
             [
              0.6666666666666666,
              "#ed7953"
             ],
             [
              0.7777777777777778,
              "#fb9f3a"
             ],
             [
              0.8888888888888888,
              "#fdca26"
             ],
             [
              1,
              "#f0f921"
             ]
            ],
            "type": "heatmap"
           }
          ],
          "histogram": [
           {
            "marker": {
             "pattern": {
              "fillmode": "overlay",
              "size": 10,
              "solidity": 0.2
             }
            },
            "type": "histogram"
           }
          ],
          "histogram2d": [
           {
            "colorbar": {
             "outlinewidth": 0,
             "ticks": ""
            },
            "colorscale": [
             [
              0,
              "#0d0887"
             ],
             [
              0.1111111111111111,
              "#46039f"
             ],
             [
              0.2222222222222222,
              "#7201a8"
             ],
             [
              0.3333333333333333,
              "#9c179e"
             ],
             [
              0.4444444444444444,
              "#bd3786"
             ],
             [
              0.5555555555555556,
              "#d8576b"
             ],
             [
              0.6666666666666666,
              "#ed7953"
             ],
             [
              0.7777777777777778,
              "#fb9f3a"
             ],
             [
              0.8888888888888888,
              "#fdca26"
             ],
             [
              1,
              "#f0f921"
             ]
            ],
            "type": "histogram2d"
           }
          ],
          "histogram2dcontour": [
           {
            "colorbar": {
             "outlinewidth": 0,
             "ticks": ""
            },
            "colorscale": [
             [
              0,
              "#0d0887"
             ],
             [
              0.1111111111111111,
              "#46039f"
             ],
             [
              0.2222222222222222,
              "#7201a8"
             ],
             [
              0.3333333333333333,
              "#9c179e"
             ],
             [
              0.4444444444444444,
              "#bd3786"
             ],
             [
              0.5555555555555556,
              "#d8576b"
             ],
             [
              0.6666666666666666,
              "#ed7953"
             ],
             [
              0.7777777777777778,
              "#fb9f3a"
             ],
             [
              0.8888888888888888,
              "#fdca26"
             ],
             [
              1,
              "#f0f921"
             ]
            ],
            "type": "histogram2dcontour"
           }
          ],
          "mesh3d": [
           {
            "colorbar": {
             "outlinewidth": 0,
             "ticks": ""
            },
            "type": "mesh3d"
           }
          ],
          "parcoords": [
           {
            "line": {
             "colorbar": {
              "outlinewidth": 0,
              "ticks": ""
             }
            },
            "type": "parcoords"
           }
          ],
          "pie": [
           {
            "automargin": true,
            "type": "pie"
           }
          ],
          "scatter": [
           {
            "fillpattern": {
             "fillmode": "overlay",
             "size": 10,
             "solidity": 0.2
            },
            "type": "scatter"
           }
          ],
          "scatter3d": [
           {
            "line": {
             "colorbar": {
              "outlinewidth": 0,
              "ticks": ""
             }
            },
            "marker": {
             "colorbar": {
              "outlinewidth": 0,
              "ticks": ""
             }
            },
            "type": "scatter3d"
           }
          ],
          "scattercarpet": [
           {
            "marker": {
             "colorbar": {
              "outlinewidth": 0,
              "ticks": ""
             }
            },
            "type": "scattercarpet"
           }
          ],
          "scattergeo": [
           {
            "marker": {
             "colorbar": {
              "outlinewidth": 0,
              "ticks": ""
             }
            },
            "type": "scattergeo"
           }
          ],
          "scattergl": [
           {
            "marker": {
             "colorbar": {
              "outlinewidth": 0,
              "ticks": ""
             }
            },
            "type": "scattergl"
           }
          ],
          "scattermap": [
           {
            "marker": {
             "colorbar": {
              "outlinewidth": 0,
              "ticks": ""
             }
            },
            "type": "scattermap"
           }
          ],
          "scattermapbox": [
           {
            "marker": {
             "colorbar": {
              "outlinewidth": 0,
              "ticks": ""
             }
            },
            "type": "scattermapbox"
           }
          ],
          "scatterpolar": [
           {
            "marker": {
             "colorbar": {
              "outlinewidth": 0,
              "ticks": ""
             }
            },
            "type": "scatterpolar"
           }
          ],
          "scatterpolargl": [
           {
            "marker": {
             "colorbar": {
              "outlinewidth": 0,
              "ticks": ""
             }
            },
            "type": "scatterpolargl"
           }
          ],
          "scatterternary": [
           {
            "marker": {
             "colorbar": {
              "outlinewidth": 0,
              "ticks": ""
             }
            },
            "type": "scatterternary"
           }
          ],
          "surface": [
           {
            "colorbar": {
             "outlinewidth": 0,
             "ticks": ""
            },
            "colorscale": [
             [
              0,
              "#0d0887"
             ],
             [
              0.1111111111111111,
              "#46039f"
             ],
             [
              0.2222222222222222,
              "#7201a8"
             ],
             [
              0.3333333333333333,
              "#9c179e"
             ],
             [
              0.4444444444444444,
              "#bd3786"
             ],
             [
              0.5555555555555556,
              "#d8576b"
             ],
             [
              0.6666666666666666,
              "#ed7953"
             ],
             [
              0.7777777777777778,
              "#fb9f3a"
             ],
             [
              0.8888888888888888,
              "#fdca26"
             ],
             [
              1,
              "#f0f921"
             ]
            ],
            "type": "surface"
           }
          ],
          "table": [
           {
            "cells": {
             "fill": {
              "color": "#EBF0F8"
             },
             "line": {
              "color": "white"
             }
            },
            "header": {
             "fill": {
              "color": "#C8D4E3"
             },
             "line": {
              "color": "white"
             }
            },
            "type": "table"
           }
          ]
         },
         "layout": {
          "annotationdefaults": {
           "arrowcolor": "#2a3f5f",
           "arrowhead": 0,
           "arrowwidth": 1
          },
          "autotypenumbers": "strict",
          "coloraxis": {
           "colorbar": {
            "outlinewidth": 0,
            "ticks": ""
           }
          },
          "colorscale": {
           "diverging": [
            [
             0,
             "#8e0152"
            ],
            [
             0.1,
             "#c51b7d"
            ],
            [
             0.2,
             "#de77ae"
            ],
            [
             0.3,
             "#f1b6da"
            ],
            [
             0.4,
             "#fde0ef"
            ],
            [
             0.5,
             "#f7f7f7"
            ],
            [
             0.6,
             "#e6f5d0"
            ],
            [
             0.7,
             "#b8e186"
            ],
            [
             0.8,
             "#7fbc41"
            ],
            [
             0.9,
             "#4d9221"
            ],
            [
             1,
             "#276419"
            ]
           ],
           "sequential": [
            [
             0,
             "#0d0887"
            ],
            [
             0.1111111111111111,
             "#46039f"
            ],
            [
             0.2222222222222222,
             "#7201a8"
            ],
            [
             0.3333333333333333,
             "#9c179e"
            ],
            [
             0.4444444444444444,
             "#bd3786"
            ],
            [
             0.5555555555555556,
             "#d8576b"
            ],
            [
             0.6666666666666666,
             "#ed7953"
            ],
            [
             0.7777777777777778,
             "#fb9f3a"
            ],
            [
             0.8888888888888888,
             "#fdca26"
            ],
            [
             1,
             "#f0f921"
            ]
           ],
           "sequentialminus": [
            [
             0,
             "#0d0887"
            ],
            [
             0.1111111111111111,
             "#46039f"
            ],
            [
             0.2222222222222222,
             "#7201a8"
            ],
            [
             0.3333333333333333,
             "#9c179e"
            ],
            [
             0.4444444444444444,
             "#bd3786"
            ],
            [
             0.5555555555555556,
             "#d8576b"
            ],
            [
             0.6666666666666666,
             "#ed7953"
            ],
            [
             0.7777777777777778,
             "#fb9f3a"
            ],
            [
             0.8888888888888888,
             "#fdca26"
            ],
            [
             1,
             "#f0f921"
            ]
           ]
          },
          "colorway": [
           "#636efa",
           "#EF553B",
           "#00cc96",
           "#ab63fa",
           "#FFA15A",
           "#19d3f3",
           "#FF6692",
           "#B6E880",
           "#FF97FF",
           "#FECB52"
          ],
          "font": {
           "color": "#2a3f5f"
          },
          "geo": {
           "bgcolor": "white",
           "lakecolor": "white",
           "landcolor": "#E5ECF6",
           "showlakes": true,
           "showland": true,
           "subunitcolor": "white"
          },
          "hoverlabel": {
           "align": "left"
          },
          "hovermode": "closest",
          "mapbox": {
           "style": "light"
          },
          "paper_bgcolor": "white",
          "plot_bgcolor": "#E5ECF6",
          "polar": {
           "angularaxis": {
            "gridcolor": "white",
            "linecolor": "white",
            "ticks": ""
           },
           "bgcolor": "#E5ECF6",
           "radialaxis": {
            "gridcolor": "white",
            "linecolor": "white",
            "ticks": ""
           }
          },
          "scene": {
           "xaxis": {
            "backgroundcolor": "#E5ECF6",
            "gridcolor": "white",
            "gridwidth": 2,
            "linecolor": "white",
            "showbackground": true,
            "ticks": "",
            "zerolinecolor": "white"
           },
           "yaxis": {
            "backgroundcolor": "#E5ECF6",
            "gridcolor": "white",
            "gridwidth": 2,
            "linecolor": "white",
            "showbackground": true,
            "ticks": "",
            "zerolinecolor": "white"
           },
           "zaxis": {
            "backgroundcolor": "#E5ECF6",
            "gridcolor": "white",
            "gridwidth": 2,
            "linecolor": "white",
            "showbackground": true,
            "ticks": "",
            "zerolinecolor": "white"
           }
          },
          "shapedefaults": {
           "line": {
            "color": "#2a3f5f"
           }
          },
          "ternary": {
           "aaxis": {
            "gridcolor": "white",
            "linecolor": "white",
            "ticks": ""
           },
           "baxis": {
            "gridcolor": "white",
            "linecolor": "white",
            "ticks": ""
           },
           "bgcolor": "#E5ECF6",
           "caxis": {
            "gridcolor": "white",
            "linecolor": "white",
            "ticks": ""
           }
          },
          "title": {
           "x": 0.05
          },
          "xaxis": {
           "automargin": true,
           "gridcolor": "white",
           "linecolor": "white",
           "ticks": "",
           "title": {
            "standoff": 15
           },
           "zerolinecolor": "white",
           "zerolinewidth": 2
          },
          "yaxis": {
           "automargin": true,
           "gridcolor": "white",
           "linecolor": "white",
           "ticks": "",
           "title": {
            "standoff": 15
           },
           "zerolinecolor": "white",
           "zerolinewidth": 2
          }
         }
        },
        "title": {
         "text": "Correlação entre IMC e Custos Médicos"
        },
        "xaxis": {
         "anchor": "y",
         "domain": [
          0,
          1
         ],
         "title": {
          "text": "bmi"
         }
        },
        "yaxis": {
         "anchor": "x",
         "domain": [
          0,
          1
         ],
         "title": {
          "text": "charges"
         }
        }
       }
      }
     },
     "metadata": {},
     "output_type": "display_data"
    }
   ],
   "source": [
    "fig = px.scatter(dados, x=\"bmi\", y=\"charges\", \n",
    "                 trendline=\"ols\", \n",
    "                 title=\"Correlação entre IMC e Custos Médicos\")\n",
    "fig.show()"
   ]
  },
  {
   "cell_type": "markdown",
   "id": "48be78d3",
   "metadata": {},
   "source": [
    "Aqui podemos ver a correlação entre as variáveis numéricas. Aqui, usamos o método de Pearson para calcular a correlação de Pearson. Escolhi a de Pearson pois esses dados são contínuos ou discretos numericos.\n",
    "\n",
    "Podemos também avaliar com o resultado do heatmap que a idade possui uma correlação positiva forte com o gasto médico."
   ]
  },
  {
   "cell_type": "code",
   "execution_count": null,
   "id": "880cf361",
   "metadata": {},
   "outputs": [
    {
     "data": {
      "image/png": "[encoded data removed]",
      "text/plain": [
       "<Figure size 800x600 with 2 Axes>"
      ]
     },
     "metadata": {},
     "output_type": "display_data"
    }
   ],
   "source": [
    "plt.figure(figsize=(8, 6))\n",
    "sns.heatmap(dados.corr(numeric_only=True), annot=True, cmap='coolwarm')\n",
    "plt.title('Matriz de Correlação (Pearson)')\n",
    "plt.show()\n"
   ]
  },
  {
   "cell_type": "markdown",
   "id": "c9b31d92",
   "metadata": {},
   "source": [
    "No comando abaixo, verificamos a quantidade de pacientes por gênero. podemos ver que a quantidade dos dois é basicamente igual."
   ]
  },
  {
   "cell_type": "code",
   "execution_count": 17,
   "id": "68986c80",
   "metadata": {},
   "outputs": [
    {
     "data": {
      "text/plain": [
       "sex\n",
       "male      676\n",
       "female    662\n",
       "Name: count, dtype: int64"
      ]
     },
     "execution_count": 17,
     "metadata": {},
     "output_type": "execute_result"
    }
   ],
   "source": [
    "dados[\"sex\"].value_counts()"
   ]
  },
  {
   "cell_type": "markdown",
   "id": "633c4796",
   "metadata": {},
   "source": [
    "Nos proximos dois graficos verificamos que a região não tem uma relação significativa com o gasto médico ou se é ou não fumante."
   ]
  },
  {
   "cell_type": "code",
   "execution_count": 30,
   "id": "d8e951e5",
   "metadata": {},
   "outputs": [
    {
     "data": {
      "image/png": "[encoded data removed]",
      "text/plain": [
       "<Figure size 800x500 with 1 Axes>"
      ]
     },
     "metadata": {},
     "output_type": "display_data"
    }
   ],
   "source": [
    "# Tabela de proporções por região\n",
    "smoker_region_pct = pd.crosstab(dados['region'], dados['smoker'], normalize='index') * 100\n",
    "smoker_region_pct = smoker_region_pct.round(2)\n",
    "\n",
    "# Resetar índice para plotagem\n",
    "smoker_region_pct = smoker_region_pct.reset_index()\n",
    "\n",
    "# Converter para formato long (melt) para usar no seaborn\n",
    "smoker_region_long = smoker_region_pct.melt(id_vars='region', var_name='smoker', value_name='percent')\n",
    "\n",
    "# Gráfico de barras\n",
    "plt.figure(figsize=(8, 5))\n",
    "sns.barplot(data=smoker_region_long, x='region', y='percent', hue='smoker')\n",
    "plt.title('Proporção de Fumantes por Região')\n",
    "plt.ylabel('Percentual (%)')\n",
    "plt.xlabel('Região')\n",
    "plt.legend(title='Fumante')\n",
    "plt.ylim(0, 100)\n",
    "plt.tight_layout()\n",
    "plt.show()"
   ]
  },
  {
   "cell_type": "code",
   "execution_count": 31,
   "id": "25d3c1fb",
   "metadata": {},
   "outputs": [
    {
     "data": {
      "image/png": "[encoded data removed]",
      "text/plain": [
       "<Figure size 800x500 with 1 Axes>"
      ]
     },
     "metadata": {},
     "output_type": "display_data"
    }
   ],
   "source": [
    "# Calcular custo médio por região\n",
    "mean_charges_region = dados.groupby('region')['charges'].mean().reset_index()\n",
    "\n",
    "# Gráfico de barras\n",
    "plt.figure(figsize=(8, 5))\n",
    "sns.barplot(data=mean_charges_region, x='region', y='charges')\n",
    "plt.title('Custo Médico Médio por Região')\n",
    "plt.ylabel('Charges Médios')\n",
    "plt.xlabel('Região')\n",
    "plt.tight_layout()\n",
    "plt.show()"
   ]
  },
  {
   "cell_type": "code",
   "execution_count": 32,
   "id": "1c4e7ad7",
   "metadata": {},
   "outputs": [
    {
     "data": {
      "image/png": "[encoded data removed]",
      "text/plain": [
       "<Figure size 800x500 with 1 Axes>"
      ]
     },
     "metadata": {},
     "output_type": "display_data"
    }
   ],
   "source": [
    "# Tabela de proporção de fumantes por sexo\n",
    "smoker_sex_pct = pd.crosstab(dados['sex'], dados['smoker'], normalize='index') * 100\n",
    "smoker_sex_pct = smoker_sex_pct.reset_index().melt(id_vars='sex', var_name='smoker', value_name='percent')\n",
    "\n",
    "# Gráfico de barras\n",
    "plt.figure(figsize=(8, 5))\n",
    "sns.barplot(data=smoker_sex_pct, x='sex', y='percent', hue='smoker')\n",
    "plt.title('Proporção de Fumantes por Sexo')\n",
    "plt.ylabel('Percentual (%)')\n",
    "plt.xlabel('Sexo')\n",
    "plt.legend(title='Fumante')\n",
    "plt.ylim(0, 100)\n",
    "plt.tight_layout()\n",
    "plt.show()"
   ]
  },
  {
   "cell_type": "markdown",
   "id": "73c31664",
   "metadata": {},
   "source": [
    "Pré-processamento dos dados"
   ]
  },
  {
   "cell_type": "code",
   "execution_count": 6,
   "id": "7c5a3139",
   "metadata": {},
   "outputs": [],
   "source": [
    "categorical_cols = ['sex', 'smoker', 'region']\n",
    "\n",
    "preprocessor = ColumnTransformer(\n",
    "    transformers=[\n",
    "        ('cat', OneHotEncoder(drop='first'), categorical_cols)\n",
    "    ],\n",
    "    remainder='passthrough' \n",
    ")\n"
   ]
  },
  {
   "cell_type": "markdown",
   "id": "6fa5e416",
   "metadata": {},
   "source": [
    "Realizando o grid search para encontrar os melhores parametros (XGboost e random forest)"
   ]
  },
  {
   "cell_type": "code",
   "execution_count": 7,
   "id": "b5e3dcdb",
   "metadata": {},
   "outputs": [
    {
     "name": "stdout",
     "output_type": "stream",
     "text": [
      "Fitting 5 folds for each of 24 candidates, totalling 120 fits\n",
      "Melhores parâmetros - Random Forest:\n",
      "{'regressor__max_depth': 5, 'regressor__min_samples_leaf': 2, 'regressor__min_samples_split': 5, 'regressor__n_estimators': 100}\n"
     ]
    }
   ],
   "source": [
    "X = dados.drop('charges', axis=1)\n",
    "y = dados['charges']\n",
    "\n",
    "\n",
    "# Pipeline com pré-processamento + Random Forest\n",
    "pipeline_rf = Pipeline([\n",
    "    ('preprocess', preprocessor),\n",
    "    ('regressor', RandomForestRegressor(random_state=42))\n",
    "])\n",
    "\n",
    "# Grid de hiperparâmetros para Random Forest\n",
    "param_grid_rf = {\n",
    "    'regressor__n_estimators': [100, 200],\n",
    "    'regressor__max_depth': [5, 10, None],\n",
    "    'regressor__min_samples_split': [2, 5],\n",
    "    'regressor__min_samples_leaf': [1, 2]\n",
    "}\n",
    "\n",
    "# Aplicar Grid Search\n",
    "grid_search_rf = GridSearchCV(pipeline_rf, param_grid_rf, cv=5, scoring='r2', n_jobs=-1, verbose=1)\n",
    "grid_search_rf.fit(X, y)\n",
    "\n",
    "# Exibir melhores parâmetros\n",
    "print(\"Melhores parâmetros - Random Forest:\")\n",
    "print(grid_search_rf.best_params_)\n",
    "\n",
    "# Melhor estimador Random Forest ajustado\n",
    "best_model_rf = grid_search_rf.best_estimator_"
   ]
  },
  {
   "cell_type": "code",
   "execution_count": 8,
   "id": "ef91ce72",
   "metadata": {},
   "outputs": [],
   "source": [
    "# Definir pipeline com XGBoost (sem treinar ainda)\n",
    "pipeline = Pipeline([\n",
    "    ('preprocess', preprocessor),\n",
    "    ('regressor', XGBRegressor(objective='reg:squarederror', random_state=42))\n",
    "])\n",
    "\n",
    "# Definir grid de hiperparâmetros\n",
    "param_grid = {\n",
    "    'regressor__n_estimators': [100, 200],\n",
    "    'regressor__max_depth': [3, 4, 5],\n",
    "    'regressor__learning_rate': [0.05, 0.1, 0.2]\n",
    "}"
   ]
  },
  {
   "cell_type": "code",
   "execution_count": 9,
   "id": "8bb632a7",
   "metadata": {},
   "outputs": [
    {
     "name": "stdout",
     "output_type": "stream",
     "text": [
      "Fitting 5 folds for each of 18 candidates, totalling 90 fits\n",
      "Melhores parâmetros encontrados:\n",
      "{'regressor__learning_rate': 0.05, 'regressor__max_depth': 3, 'regressor__n_estimators': 100}\n"
     ]
    }
   ],
   "source": [
    "# Aplicar Grid Search com validação cruzada\n",
    "grid_search = GridSearchCV(pipeline, param_grid, cv=5, scoring='r2', n_jobs=-1, verbose=1)\n",
    "grid_search.fit(X, y)\n",
    "\n",
    "# Melhores parâmetros encontrados\n",
    "print(\"Melhores parâmetros encontrados:\")\n",
    "print(grid_search.best_params_)\n",
    "\n",
    "# Melhor modelo\n",
    "best_model_xgboost = grid_search.best_estimator_"
   ]
  },
  {
   "cell_type": "markdown",
   "id": "813253e2",
   "metadata": {},
   "source": [
    "Aqui vamos fazer validação cruzada para descobrir qual o melhor modelo para ser usado"
   ]
  },
  {
   "cell_type": "code",
   "execution_count": 10,
   "id": "ceb2d850",
   "metadata": {},
   "outputs": [],
   "source": [
    "# Definir os modelos\n",
    "models = {\n",
    "    'Regressão Linear': LinearRegression(),\n",
    "    'Random Forest': RandomForestRegressor(n_estimators=100, max_depth=5, random_state=42),\n",
    "    'XGBoost': XGBRegressor(n_estimators=100, max_depth=3, learning_rate=0.05, random_state=42)\n",
    "}"
   ]
  },
  {
   "cell_type": "code",
   "execution_count": 11,
   "id": "f84fac66",
   "metadata": {},
   "outputs": [
    {
     "name": "stdout",
     "output_type": "stream",
     "text": [
      "             Modelo  R² Médio  Desvio Padrão\n",
      "2           XGBoost  0.862691       0.028364\n",
      "1     Random Forest  0.857200       0.032569\n",
      "0  Regressão Linear  0.746862       0.024874\n"
     ]
    }
   ],
   "source": [
    "# Avaliar resultados\n",
    "results = []\n",
    "for name, reg in models.items():\n",
    "    pipeline = Pipeline(steps=[\n",
    "        ('preprocess', preprocessor),\n",
    "        ('regressor', reg)\n",
    "    ])\n",
    "    scores = cross_val_score(pipeline, X, y, cv=5, scoring='r2')\n",
    "    results.append({\n",
    "        'Modelo': name,\n",
    "        'R² Médio': scores.mean(),\n",
    "        'Desvio Padrão': scores.std()\n",
    "    })\n",
    "\n",
    "# Exibir resultados\n",
    "df_results = pd.DataFrame(results).sort_values(by='R² Médio', ascending=False)\n",
    "print(df_results)\n"
   ]
  },
  {
   "cell_type": "markdown",
   "id": "4ffc8f14",
   "metadata": {},
   "source": [
    "Aqui vemos que o XGBOOST teve o melhor resultado, com um R² médio de 0.86 e um desvio padrão de 0.02.\n",
    "\n",
    "Agora vamos treinar o modelo com todos os dados, fazer previsões com os dados de teste e comparar com os valores reais.\n",
    "\n",
    "A fins apenas de estudo vou repetir a separação dos dados, treinamento e teste e o modelo."
   ]
  },
  {
   "cell_type": "code",
   "execution_count": 12,
   "id": "39172e3e",
   "metadata": {},
   "outputs": [
    {
     "name": "stdout",
     "output_type": "stream",
     "text": [
      "R²: 0.884\n",
      "RMSE: 4236.27\n",
      "MAE: 2452.99\n"
     ]
    }
   ],
   "source": [
    "X = dados.drop('charges', axis=1)\n",
    "y = dados['charges']\n",
    "\n",
    "# Categóricas\n",
    "categorical_cols = ['sex', 'smoker', 'region']\n",
    "\n",
    "# Pré-processamento\n",
    "preprocessor = ColumnTransformer([\n",
    "    ('cat', OneHotEncoder(drop='first'), categorical_cols)\n",
    "], remainder='passthrough')\n",
    "\n",
    "\n",
    "# Pipeline com Random Forest\n",
    "model = Pipeline([\n",
    "    ('preprocess', preprocessor),\n",
    "    ('regressor', XGBRegressor(n_estimators=100, max_depth=3, learning_rate=0.05, random_state=42))\n",
    "])\n",
    "\n",
    "# Divisão treino/teste\n",
    "X_train, X_test, y_train, y_test = train_test_split(X, y, test_size=0.2, random_state=42)\n",
    "\n",
    "# Treinamento\n",
    "model.fit(X_train, y_train)\n",
    "\n",
    "# Previsões\n",
    "y_pred = model.predict(X_test)\n",
    "\n",
    "# Métricas\n",
    "r2 = r2_score(y_test, y_pred)\n",
    "rmse = np.sqrt(mean_squared_error(y_test, y_pred))\n",
    "mae = mean_absolute_error(y_test, y_pred)\n",
    "\n",
    "\n",
    "print(f\"R²: {r2:.3f}\")\n",
    "print(f\"RMSE: {rmse:.2f}\")\n",
    "print(f\"MAE: {mae:.2f}\")"
   ]
  },
  {
   "cell_type": "markdown",
   "id": "5914ee2d",
   "metadata": {},
   "source": [
    "Agora plotaremos um grafico de dispersão dos valores reais e previstos."
   ]
  },
  {
   "cell_type": "code",
   "execution_count": 29,
   "id": "f9111fce",
   "metadata": {},
   "outputs": [
    {
     "data": {
      "image/png": "[encoded data removed]",
      "text/plain": [
       "<Figure size 800x600 with 1 Axes>"
      ]
     },
     "metadata": {},
     "output_type": "display_data"
    }
   ],
   "source": [
    "# Gráfico: Previsão vs Valor Real\n",
    "plt.figure(figsize=(8, 6))\n",
    "sns.scatterplot(x=y_test, y=y_pred)\n",
    "plt.plot([y_test.min(), y_test.max()], [y_test.min(), y_test.max()], '--r')\n",
    "plt.xlabel('Valor Real (charges)')\n",
    "plt.ylabel('Previsão')\n",
    "plt.title('Previsão vs Valor Real - XGBoost')\n",
    "plt.grid(True)\n",
    "plt.tight_layout()\n",
    "plt.show()\n"
   ]
  },
  {
   "cell_type": "markdown",
   "id": "d1339341",
   "metadata": {},
   "source": [
    "Agora um grafico de resíduos."
   ]
  },
  {
   "cell_type": "code",
   "execution_count": 31,
   "id": "19fc14ba",
   "metadata": {},
   "outputs": [
    {
     "data": {
      "image/png": "[encoded data removed]",
      "text/plain": [
       "<Figure size 800x500 with 1 Axes>"
      ]
     },
     "metadata": {},
     "output_type": "display_data"
    }
   ],
   "source": [
    "residuos = y_test - y_pred\n",
    "\n",
    "plt.figure(figsize=(8, 5))\n",
    "sns.histplot(residuos, bins=30, kde=True)\n",
    "plt.title('Distribuição dos Resíduos (Erros de Previsão)')\n",
    "plt.xlabel('Erro (y_real - y_predito)')\n",
    "plt.ylabel('Frequência')\n",
    "plt.axvline(0, color='red', linestyle='--')\n",
    "plt.tight_layout()\n",
    "plt.show()\n"
   ]
  },
  {
   "cell_type": "markdown",
   "id": "345ec23a",
   "metadata": {},
   "source": [
    "## Interpretação do Modelo: Importância das Variáveis e Predições Individuais"
   ]
  },
  {
   "cell_type": "code",
   "execution_count": 14,
   "id": "6f21735a",
   "metadata": {},
   "outputs": [
    {
     "name": "stdout",
     "output_type": "stream",
     "text": [
      "Importância das variáveis com XGBoost:\n",
      "                 Feature  Importance\n",
      "1        cat__smoker_yes    0.895478\n",
      "6         remainder__bmi    0.034026\n",
      "5         remainder__age    0.028679\n",
      "7    remainder__children    0.011667\n",
      "3  cat__region_southeast    0.008691\n",
      "4  cat__region_southwest    0.008479\n",
      "2  cat__region_northwest    0.007473\n",
      "0          cat__sex_male    0.005507\n",
      "\n",
      "Previsão de custo médico para novo paciente: R$ 7,279.96\n",
      "\n",
      "Perfil A (não fumante): R$ 7,279.96\n",
      "Perfil B (fumante):     R$ 21,531.25\n",
      "Impacto de ser fumante: R$ 14,251.28\n"
     ]
    }
   ],
   "source": [
    "# Recriar transformador categórico\n",
    "categorical_cols = [\"sex\", \"smoker\", \"region\"]\n",
    "preprocessor = ColumnTransformer([\n",
    "    (\"cat\", OneHotEncoder(drop=\"first\"), categorical_cols)\n",
    "], remainder=\"passthrough\")\n",
    "\n",
    "# Aplicar transformação nos dados\n",
    "X = dados.drop(\"charges\", axis=1)\n",
    "y = dados[\"charges\"]\n",
    "X_processed = preprocessor.fit_transform(X)\n",
    "\n",
    "# Treinar modelo XGBoost\n",
    "modelo = XGBRegressor(n_estimators=100, random_state=42)\n",
    "modelo.fit(X_processed, y)\n",
    "\n",
    "# Importância das variáveis\n",
    "importances = modelo.feature_importances_\n",
    "feature_names = preprocessor.get_feature_names_out()\n",
    "importancia_df = pd.DataFrame({\n",
    "    \"Feature\": feature_names,\n",
    "    \"Importance\": importances\n",
    "}).sort_values(by=\"Importance\", ascending=False)\n",
    "\n",
    "print(\"Importância das variáveis com XGBoost:\")\n",
    "print(importancia_df)\n",
    "\n",
    "# Previsão para um novo paciente\n",
    "novo_paciente = pd.DataFrame([{\n",
    "    \"age\": 40,\n",
    "    \"sex\": \"female\",\n",
    "    \"bmi\": 28.0,\n",
    "    \"children\": 2,\n",
    "    \"smoker\": \"no\",\n",
    "    \"region\": \"southeast\"\n",
    "}])\n",
    "\n",
    "novo_paciente_proc = preprocessor.transform(novo_paciente)\n",
    "previsao = modelo.predict(novo_paciente_proc)[0]\n",
    "print(f\"\\nPrevisão de custo médico para novo paciente: R$ {previsao:,.2f}\")\n",
    "\n",
    "# Comparar dois perfis (fumante vs não fumante)\n",
    "perfil_a = pd.DataFrame([{\n",
    "    \"age\": 40, \"sex\": \"female\", \"bmi\": 28.0, \"children\": 2, \"smoker\": \"no\", \"region\": \"southeast\"\n",
    "}])\n",
    "perfil_b = pd.DataFrame([{\n",
    "    \"age\": 40, \"sex\": \"female\", \"bmi\": 28.0, \"children\": 2, \"smoker\": \"yes\", \"region\": \"southeast\"\n",
    "}])\n",
    "\n",
    "pred_a = modelo.predict(preprocessor.transform(perfil_a))[0]\n",
    "pred_b = modelo.predict(preprocessor.transform(perfil_b))[0]\n",
    "\n",
    "print(f\"\\nPerfil A (não fumante): R$ {pred_a:,.2f}\")\n",
    "print(f\"Perfil B (fumante):     R$ {pred_b:,.2f}\")\n",
    "print(f\"Impacto de ser fumante: R$ {pred_b - pred_a:,.2f}\")"
   ]
  },
  {
   "cell_type": "code",
   "execution_count": 28,
   "id": "40024b86",
   "metadata": {},
   "outputs": [
    {
     "data": {
      "application/vnd.plotly.v1+json": {
       "config": {
        "plotlyServerURL": "https://plot.ly"
       },
       "data": [
        {
         "hovertemplate": "Score=%{x}<br>Variável=%{y}<extra></extra>",
         "legendgroup": "",
         "marker": {
          "color": "#636efa",
          "pattern": {
           "shape": ""
          }
         },
         "name": "",
         "orientation": "h",
         "showlegend": false,
         "textposition": "auto",
         "type": "bar",
         "x": {
          "bdata": "6XO0O0Hk9Dt/7Qo8aGUOPPclPzxf7+o8zF4LPQY+ZT8=",
          "dtype": "f4"
         },
         "xaxis": "x",
         "y": [
          "cat__sex_male",
          "cat__region_northwest",
          "cat__region_southwest",
          "cat__region_southeast",
          "remainder__children",
          "remainder__age",
          "remainder__bmi",
          "cat__smoker_yes"
         ],
         "yaxis": "y"
        }
       ],
       "layout": {
        "barmode": "relative",
        "height": 500,
        "legend": {
         "tracegroupgap": 0
        },
        "template": {
         "data": {
          "bar": [
           {
            "error_x": {
             "color": "#2a3f5f"
            },
            "error_y": {
             "color": "#2a3f5f"
            },
            "marker": {
             "line": {
              "color": "#E5ECF6",
              "width": 0.5
             },
             "pattern": {
              "fillmode": "overlay",
              "size": 10,
              "solidity": 0.2
             }
            },
            "type": "bar"
           }
          ],
          "barpolar": [
           {
            "marker": {
             "line": {
              "color": "#E5ECF6",
              "width": 0.5
             },
             "pattern": {
              "fillmode": "overlay",
              "size": 10,
              "solidity": 0.2
             }
            },
            "type": "barpolar"
           }
          ],
          "carpet": [
           {
            "aaxis": {
             "endlinecolor": "#2a3f5f",
             "gridcolor": "white",
             "linecolor": "white",
             "minorgridcolor": "white",
             "startlinecolor": "#2a3f5f"
            },
            "baxis": {
             "endlinecolor": "#2a3f5f",
             "gridcolor": "white",
             "linecolor": "white",
             "minorgridcolor": "white",
             "startlinecolor": "#2a3f5f"
            },
            "type": "carpet"
           }
          ],
          "choropleth": [
           {
            "colorbar": {
             "outlinewidth": 0,
             "ticks": ""
            },
            "type": "choropleth"
           }
          ],
          "contour": [
           {
            "colorbar": {
             "outlinewidth": 0,
             "ticks": ""
            },
            "colorscale": [
             [
              0,
              "#0d0887"
             ],
             [
              0.1111111111111111,
              "#46039f"
             ],
             [
              0.2222222222222222,
              "#7201a8"
             ],
             [
              0.3333333333333333,
              "#9c179e"
             ],
             [
              0.4444444444444444,
              "#bd3786"
             ],
             [
              0.5555555555555556,
              "#d8576b"
             ],
             [
              0.6666666666666666,
              "#ed7953"
             ],
             [
              0.7777777777777778,
              "#fb9f3a"
             ],
             [
              0.8888888888888888,
              "#fdca26"
             ],
             [
              1,
              "#f0f921"
             ]
            ],
            "type": "contour"
           }
          ],
          "contourcarpet": [
           {
            "colorbar": {
             "outlinewidth": 0,
             "ticks": ""
            },
            "type": "contourcarpet"
           }
          ],
          "heatmap": [
           {
            "colorbar": {
             "outlinewidth": 0,
             "ticks": ""
            },
            "colorscale": [
             [
              0,
              "#0d0887"
             ],
             [
              0.1111111111111111,
              "#46039f"
             ],
             [
              0.2222222222222222,
              "#7201a8"
             ],
             [
              0.3333333333333333,
              "#9c179e"
             ],
             [
              0.4444444444444444,
              "#bd3786"
             ],
             [
              0.5555555555555556,
              "#d8576b"
             ],
             [
              0.6666666666666666,
              "#ed7953"
             ],
             [
              0.7777777777777778,
              "#fb9f3a"
             ],
             [
              0.8888888888888888,
              "#fdca26"
             ],
             [
              1,
              "#f0f921"
             ]
            ],
            "type": "heatmap"
           }
          ],
          "histogram": [
           {
            "marker": {
             "pattern": {
              "fillmode": "overlay",
              "size": 10,
              "solidity": 0.2
             }
            },
            "type": "histogram"
           }
          ],
          "histogram2d": [
           {
            "colorbar": {
             "outlinewidth": 0,
             "ticks": ""
            },
            "colorscale": [
             [
              0,
              "#0d0887"
             ],
             [
              0.1111111111111111,
              "#46039f"
             ],
             [
              0.2222222222222222,
              "#7201a8"
             ],
             [
              0.3333333333333333,
              "#9c179e"
             ],
             [
              0.4444444444444444,
              "#bd3786"
             ],
             [
              0.5555555555555556,
              "#d8576b"
             ],
             [
              0.6666666666666666,
              "#ed7953"
             ],
             [
              0.7777777777777778,
              "#fb9f3a"
             ],
             [
              0.8888888888888888,
              "#fdca26"
             ],
             [
              1,
              "#f0f921"
             ]
            ],
            "type": "histogram2d"
           }
          ],
          "histogram2dcontour": [
           {
            "colorbar": {
             "outlinewidth": 0,
             "ticks": ""
            },
            "colorscale": [
             [
              0,
              "#0d0887"
             ],
             [
              0.1111111111111111,
              "#46039f"
             ],
             [
              0.2222222222222222,
              "#7201a8"
             ],
             [
              0.3333333333333333,
              "#9c179e"
             ],
             [
              0.4444444444444444,
              "#bd3786"
             ],
             [
              0.5555555555555556,
              "#d8576b"
             ],
             [
              0.6666666666666666,
              "#ed7953"
             ],
             [
              0.7777777777777778,
              "#fb9f3a"
             ],
             [
              0.8888888888888888,
              "#fdca26"
             ],
             [
              1,
              "#f0f921"
             ]
            ],
            "type": "histogram2dcontour"
           }
          ],
          "mesh3d": [
           {
            "colorbar": {
             "outlinewidth": 0,
             "ticks": ""
            },
            "type": "mesh3d"
           }
          ],
          "parcoords": [
           {
            "line": {
             "colorbar": {
              "outlinewidth": 0,
              "ticks": ""
             }
            },
            "type": "parcoords"
           }
          ],
          "pie": [
           {
            "automargin": true,
            "type": "pie"
           }
          ],
          "scatter": [
           {
            "fillpattern": {
             "fillmode": "overlay",
             "size": 10,
             "solidity": 0.2
            },
            "type": "scatter"
           }
          ],
          "scatter3d": [
           {
            "line": {
             "colorbar": {
              "outlinewidth": 0,
              "ticks": ""
             }
            },
            "marker": {
             "colorbar": {
              "outlinewidth": 0,
              "ticks": ""
             }
            },
            "type": "scatter3d"
           }
          ],
          "scattercarpet": [
           {
            "marker": {
             "colorbar": {
              "outlinewidth": 0,
              "ticks": ""
             }
            },
            "type": "scattercarpet"
           }
          ],
          "scattergeo": [
           {
            "marker": {
             "colorbar": {
              "outlinewidth": 0,
              "ticks": ""
             }
            },
            "type": "scattergeo"
           }
          ],
          "scattergl": [
           {
            "marker": {
             "colorbar": {
              "outlinewidth": 0,
              "ticks": ""
             }
            },
            "type": "scattergl"
           }
          ],
          "scattermap": [
           {
            "marker": {
             "colorbar": {
              "outlinewidth": 0,
              "ticks": ""
             }
            },
            "type": "scattermap"
           }
          ],
          "scattermapbox": [
           {
            "marker": {
             "colorbar": {
              "outlinewidth": 0,
              "ticks": ""
             }
            },
            "type": "scattermapbox"
           }
          ],
          "scatterpolar": [
           {
            "marker": {
             "colorbar": {
              "outlinewidth": 0,
              "ticks": ""
             }
            },
            "type": "scatterpolar"
           }
          ],
          "scatterpolargl": [
           {
            "marker": {
             "colorbar": {
              "outlinewidth": 0,
              "ticks": ""
             }
            },
            "type": "scatterpolargl"
           }
          ],
          "scatterternary": [
           {
            "marker": {
             "colorbar": {
              "outlinewidth": 0,
              "ticks": ""
             }
            },
            "type": "scatterternary"
           }
          ],
          "surface": [
           {
            "colorbar": {
             "outlinewidth": 0,
             "ticks": ""
            },
            "colorscale": [
             [
              0,
              "#0d0887"
             ],
             [
              0.1111111111111111,
              "#46039f"
             ],
             [
              0.2222222222222222,
              "#7201a8"
             ],
             [
              0.3333333333333333,
              "#9c179e"
             ],
             [
              0.4444444444444444,
              "#bd3786"
             ],
             [
              0.5555555555555556,
              "#d8576b"
             ],
             [
              0.6666666666666666,
              "#ed7953"
             ],
             [
              0.7777777777777778,
              "#fb9f3a"
             ],
             [
              0.8888888888888888,
              "#fdca26"
             ],
             [
              1,
              "#f0f921"
             ]
            ],
            "type": "surface"
           }
          ],
          "table": [
           {
            "cells": {
             "fill": {
              "color": "#EBF0F8"
             },
             "line": {
              "color": "white"
             }
            },
            "header": {
             "fill": {
              "color": "#C8D4E3"
             },
             "line": {
              "color": "white"
             }
            },
            "type": "table"
           }
          ]
         },
         "layout": {
          "annotationdefaults": {
           "arrowcolor": "#2a3f5f",
           "arrowhead": 0,
           "arrowwidth": 1
          },
          "autotypenumbers": "strict",
          "coloraxis": {
           "colorbar": {
            "outlinewidth": 0,
            "ticks": ""
           }
          },
          "colorscale": {
           "diverging": [
            [
             0,
             "#8e0152"
            ],
            [
             0.1,
             "#c51b7d"
            ],
            [
             0.2,
             "#de77ae"
            ],
            [
             0.3,
             "#f1b6da"
            ],
            [
             0.4,
             "#fde0ef"
            ],
            [
             0.5,
             "#f7f7f7"
            ],
            [
             0.6,
             "#e6f5d0"
            ],
            [
             0.7,
             "#b8e186"
            ],
            [
             0.8,
             "#7fbc41"
            ],
            [
             0.9,
             "#4d9221"
            ],
            [
             1,
             "#276419"
            ]
           ],
           "sequential": [
            [
             0,
             "#0d0887"
            ],
            [
             0.1111111111111111,
             "#46039f"
            ],
            [
             0.2222222222222222,
             "#7201a8"
            ],
            [
             0.3333333333333333,
             "#9c179e"
            ],
            [
             0.4444444444444444,
             "#bd3786"
            ],
            [
             0.5555555555555556,
             "#d8576b"
            ],
            [
             0.6666666666666666,
             "#ed7953"
            ],
            [
             0.7777777777777778,
             "#fb9f3a"
            ],
            [
             0.8888888888888888,
             "#fdca26"
            ],
            [
             1,
             "#f0f921"
            ]
           ],
           "sequentialminus": [
            [
             0,
             "#0d0887"
            ],
            [
             0.1111111111111111,
             "#46039f"
            ],
            [
             0.2222222222222222,
             "#7201a8"
            ],
            [
             0.3333333333333333,
             "#9c179e"
            ],
            [
             0.4444444444444444,
             "#bd3786"
            ],
            [
             0.5555555555555556,
             "#d8576b"
            ],
            [
             0.6666666666666666,
             "#ed7953"
            ],
            [
             0.7777777777777778,
             "#fb9f3a"
            ],
            [
             0.8888888888888888,
             "#fdca26"
            ],
            [
             1,
             "#f0f921"
            ]
           ]
          },
          "colorway": [
           "#636efa",
           "#EF553B",
           "#00cc96",
           "#ab63fa",
           "#FFA15A",
           "#19d3f3",
           "#FF6692",
           "#B6E880",
           "#FF97FF",
           "#FECB52"
          ],
          "font": {
           "color": "#2a3f5f"
          },
          "geo": {
           "bgcolor": "white",
           "lakecolor": "white",
           "landcolor": "#E5ECF6",
           "showlakes": true,
           "showland": true,
           "subunitcolor": "white"
          },
          "hoverlabel": {
           "align": "left"
          },
          "hovermode": "closest",
          "mapbox": {
           "style": "light"
          },
          "paper_bgcolor": "white",
          "plot_bgcolor": "#E5ECF6",
          "polar": {
           "angularaxis": {
            "gridcolor": "white",
            "linecolor": "white",
            "ticks": ""
           },
           "bgcolor": "#E5ECF6",
           "radialaxis": {
            "gridcolor": "white",
            "linecolor": "white",
            "ticks": ""
           }
          },
          "scene": {
           "xaxis": {
            "backgroundcolor": "#E5ECF6",
            "gridcolor": "white",
            "gridwidth": 2,
            "linecolor": "white",
            "showbackground": true,
            "ticks": "",
            "zerolinecolor": "white"
           },
           "yaxis": {
            "backgroundcolor": "#E5ECF6",
            "gridcolor": "white",
            "gridwidth": 2,
            "linecolor": "white",
            "showbackground": true,
            "ticks": "",
            "zerolinecolor": "white"
           },
           "zaxis": {
            "backgroundcolor": "#E5ECF6",
            "gridcolor": "white",
            "gridwidth": 2,
            "linecolor": "white",
            "showbackground": true,
            "ticks": "",
            "zerolinecolor": "white"
           }
          },
          "shapedefaults": {
           "line": {
            "color": "#2a3f5f"
           }
          },
          "ternary": {
           "aaxis": {
            "gridcolor": "white",
            "linecolor": "white",
            "ticks": ""
           },
           "baxis": {
            "gridcolor": "white",
            "linecolor": "white",
            "ticks": ""
           },
           "bgcolor": "#E5ECF6",
           "caxis": {
            "gridcolor": "white",
            "linecolor": "white",
            "ticks": ""
           }
          },
          "title": {
           "x": 0.05
          },
          "xaxis": {
           "automargin": true,
           "gridcolor": "white",
           "linecolor": "white",
           "ticks": "",
           "title": {
            "standoff": 15
           },
           "zerolinecolor": "white",
           "zerolinewidth": 2
          },
          "yaxis": {
           "automargin": true,
           "gridcolor": "white",
           "linecolor": "white",
           "ticks": "",
           "title": {
            "standoff": 15
           },
           "zerolinecolor": "white",
           "zerolinewidth": 2
          }
         }
        },
        "title": {
         "text": "Importância das Variáveis - XGBoost"
        },
        "xaxis": {
         "anchor": "y",
         "domain": [
          0,
          1
         ],
         "title": {
          "text": "Score"
         }
        },
        "yaxis": {
         "anchor": "x",
         "domain": [
          0,
          1
         ],
         "title": {
          "text": "Variável"
         }
        }
       }
      }
     },
     "metadata": {},
     "output_type": "display_data"
    }
   ],
   "source": [
    "# Usar o DataFrame gerado com as importâncias\n",
    "importancia_df = pd.DataFrame({\n",
    "    \"Variável\": feature_names,\n",
    "    \"Importância\": modelo.feature_importances_\n",
    "}).sort_values(by=\"Importância\", ascending=True)\n",
    "\n",
    "# Criar gráfico de barras horizontal interativo\n",
    "fig = px.bar(\n",
    "    importancia_df,\n",
    "    x=\"Importância\",\n",
    "    y=\"Variável\",\n",
    "    orientation='h',\n",
    "    title=\"Importância das Variáveis - XGBoost\",\n",
    "    labels={\"Importância\": \"Score\", \"Variável\": \"Variável\"},\n",
    "    height=500\n",
    ")\n",
    "\n",
    "fig.show()"
   ]
  },
  {
   "cell_type": "markdown",
   "id": "e7d450b0",
   "metadata": {},
   "source": [
    "# Relatório de Análise: Previsão de Custos Médicos com XGBoost\n",
    "\n",
    "## Objetivo\n",
    "Desenvolver um modelo preditivo capaz de estimar os custos médicos individuais com base em características demográficas e comportamentais, utilizando a base de dados \"Medical Cost Personal Dataset\".\n",
    "\n",
    "## Metodologia\n",
    "O modelo escolhido foi o **XGBoost Regressor**, um algoritmo de aprendizado de máquina baseado em árvores de decisão e otimizado por gradiente. Os dados foram pré-processados com codificação one-hot para variáveis categóricas e mantidos os valores originais para variáveis numéricas.\n",
    "\n",
    "## Importância das Variáveis\n",
    "Com base no treinamento do modelo, as variáveis com maior impacto na previsão dos custos médicos foram:\n",
    "\n",
    "- `smoker_yes`: presença do hábito de fumar foi a variável mais relevante.\n",
    "- `bmi`: índice de massa corporal.\n",
    "- `age`: idade do paciente.\n",
    "- `region` e `sex` tiveram menor impacto.\n",
    "\n",
    "Essa distribuição está coerente com a literatura médica, onde o tabagismo, a obesidade e a idade são fortes preditores de custos hospitalares.\n",
    "\n",
    "## Predição Individual\n",
    "Para um perfil simulado de paciente com:\n",
    "- Idade: 40 anos\n",
    "- Sexo: feminino\n",
    "- IMC: 28.0\n",
    "- 2 filhos\n",
    "- Não fumante\n",
    "- Região: sudeste dos EUA\n",
    "\n",
    "O modelo previu um custo médico de aproximadamente **R$ 7,279.96**.\n",
    "\n",
    "## Comparação entre Perfis (Fumante vs Não Fumante)\n",
    "Foram comparados dois perfis idênticos, mudando apenas o status de fumante. Os resultados foram:\n",
    "\n",
    "- **Perfil A (não fumante)**: R$ 7,279.96\n",
    "- **Perfil B (fumante)**: R$ 20,000.00+\n",
    "- **Diferença atribuída ao tabagismo**: mais de **R$ 14,000.00**\n",
    "\n",
    "## Conclusão\n",
    "O modelo XGBoost demonstrou alta capacidade preditiva e interpretabilidade. A variável mais influente foi o status de fumante, seguida por IMC e idade. O modelo se mostra adequado para aplicações em saúde suplementar e planos de saúde, podendo auxiliar na precificação de seguros e políticas preventivas.\n"
   ]
  }
 ],
 "metadata": {
  "kernelspec": {
   "display_name": ".venv",
   "language": "python",
   "name": "python3"
  },
  "language_info": {
   "codemirror_mode": {
    "name": "ipython",
    "version": 3
   },
   "file_extension": ".py",
   "mimetype": "text/x-python",
   "name": "python",
   "nbconvert_exporter": "python",
   "pygments_lexer": "ipython3",
   "version": "3.11.9"
  }
 },
 "nbformat": 4,
 "nbformat_minor": 5
}
